{
 "cells": [
  {
   "cell_type": "markdown",
   "metadata": {
    "id": "-WeCeITXoxLf"
   },
   "source": [
    "# Assignment 2\n",
    "\n",
    "**Credits**: Federico Ruggeri, Eleonora Mancini, Paolo Torroni\n",
    "\n",
    "**Keywords**: Sexism Detection, Multi-class Classification, LLMs, Prompting"
   ]
  },
  {
   "cell_type": "markdown",
   "metadata": {
    "id": "vFN9Q2rGLJnc"
   },
   "source": [
    "\n",
    "# Contact\n",
    "\n",
    "For any doubt, question, issue or help, you can always contact us at the following email addresses:\n",
    "\n",
    "Teaching Assistants:\n",
    "\n",
    "* Federico Ruggeri -> federico.ruggeri6@unibo.it\n",
    "* Eleonora Mancini -> e.mancini@unibo.it\n",
    "\n",
    "Professor:\n",
    "\n",
    "* Paolo Torroni -> p.torroni@unibo.it"
   ]
  },
  {
   "cell_type": "markdown",
   "metadata": {
    "id": "bN4nmQacznGV"
   },
   "source": [
    "# Relevant Material\n",
    "\n",
    "- Tutorial 3\n",
    "- Huggingface documentation\n",
    "- Huggingface hub"
   ]
  },
  {
   "cell_type": "markdown",
   "metadata": {
    "id": "Ck47wFhrLJnc"
   },
   "source": [
    "# Introduction\n",
    "\n",
    "You are tasked to address the [EDOS Task A](https://github.com/rewire-online/edos) on sexism detection."
   ]
  },
  {
   "cell_type": "markdown",
   "metadata": {
    "id": "5mtjp0cGLJnc"
   },
   "source": [
    "## Problem definition\n",
    "\n",
    "Given an input text sentence, the task is to label the sentence as sexist or not sexist (binary classification).\n",
    "\n",
    "### Examples:\n",
    "\n",
    "**Text**: *``Schedule a date with her, then don't show up. Then text her \"GOTCHA B___H\".''*\n",
    "\n",
    "**Label**: Sexist\n",
    "\n",
    "**Text**: *``That’s completely ridiculous a woman flashing her boobs is not sexual assault in the slightest.''*\n",
    "\n",
    "**Label**: Not sexist\n",
    "\n"
   ]
  },
  {
   "cell_type": "markdown",
   "metadata": {
    "id": "3dqwRZx-QNGX"
   },
   "source": [
    "## Approach\n",
    "\n",
    "We will tackle the binary classification task with LLMs.\n",
    "\n",
    "In particular, we'll consider zero-/few-shot prompting approaches to assess the capability of some popular open-source LLMs on this task."
   ]
  },
  {
   "cell_type": "markdown",
   "metadata": {
    "id": "PS3igwXpQcAY"
   },
   "source": [
    "## Preliminaries\n",
    "\n",
    "We are going to download LLMs from [Huggingface](https://huggingface.co/).\n",
    "\n",
    "Many of these open-source LLMs require you to accept their \"Community License Agreement\" to download them.\n",
    "\n",
    "In summary:\n",
    "\n",
    "- If not already, create an account of Huggingface (~2 mins)\n",
    "- Check a LLM model card page (e.g., [Mistral v3](https://huggingface.co/mistralai/Mistral-7B-Instruct-v0.3)) and accept its \"Community License Agreement\".\n",
    "- Go to your account -> Settings -> Access Tokens -> Create new token -> \"Repositories permissions\" -> add the LLM model card you want to use.\n",
    "- Save the token (we'll need it later)"
   ]
  },
  {
   "cell_type": "markdown",
   "metadata": {
    "id": "xqEsPH_JSxw6"
   },
   "source": [
    "### Huggingface Login\n",
    "\n",
    "Once we have created an account and an access token, we need to login to Huggingface via code.\n",
    "\n",
    "- Type your token and press Enter\n",
    "- You can say No to Github linking"
   ]
  },
  {
   "cell_type": "code",
   "execution_count": null,
   "metadata": {
    "execution": {
     "iopub.execute_input": "2025-01-12T17:16:19.805065Z",
     "iopub.status.busy": "2025-01-12T17:16:19.804816Z",
     "iopub.status.idle": "2025-01-12T17:16:20.090976Z",
     "shell.execute_reply": "2025-01-12T17:16:20.089970Z",
     "shell.execute_reply.started": "2025-01-12T17:16:19.805038Z"
    },
    "id": "_uWEUjs0THxP",
    "outputId": "03f5a082-c0f8-4e67-a24a-33262740a533",
    "trusted": true
   },
   "outputs": [],
   "source": [
    "from huggingface_hub import notebook_login\n",
    "notebook_login()"
   ]
  },
  {
   "cell_type": "markdown",
   "metadata": {
    "id": "MLxSrY-4e_0J"
   },
   "source": [
    "After login, you can download all models associated with your access token in addition to those that are not protected by an access token."
   ]
  },
  {
   "cell_type": "markdown",
   "metadata": {
    "id": "pEYMBnAQLJnc"
   },
   "source": [
    "### Data Loading\n",
    "\n",
    "Since we are only interested in prompting, we do not require a train dataset.\n",
    "\n",
    "We have preparared a small test set version of EDOS in our dedicated [Github repository](https://github.com/lt-nlp-lab-unibo/nlp-course-material).\n",
    "\n",
    "Check the ``Assignment 2/data`` folder.\n",
    "It contains:\n",
    "\n",
    "- ``a2_test.csv`` → a small test set of 300 samples.\n",
    "- ``demonstrations.csv`` -> a batch of 1000 samples for few-shot prompting.\n",
    "\n",
    "Both datasets contain a balanced number of sexist and not sexist samples.\n"
   ]
  },
  {
   "cell_type": "code",
   "execution_count": 2,
   "metadata": {
    "execution": {
     "iopub.execute_input": "2025-01-12T17:16:24.315497Z",
     "iopub.status.busy": "2025-01-12T17:16:24.314833Z",
     "iopub.status.idle": "2025-01-12T17:16:24.685497Z",
     "shell.execute_reply": "2025-01-12T17:16:24.684775Z",
     "shell.execute_reply.started": "2025-01-12T17:16:24.315465Z"
    },
    "id": "SMEP0m0gfhpJ",
    "trusted": true
   },
   "outputs": [],
   "source": [
    "import pandas as pd\n",
    "\n",
    "demo_data = pd.read_csv(\"/kaggle/input/nlp-task2-dataset/data/demonstrations.csv\")\n",
    "test_data = pd.read_csv(\"/kaggle/input/nlp-task2-dataset/data/a2_test.csv\")"
   ]
  },
  {
   "cell_type": "code",
   "execution_count": 3,
   "metadata": {
    "execution": {
     "iopub.execute_input": "2025-01-12T17:16:24.687274Z",
     "iopub.status.busy": "2025-01-12T17:16:24.686946Z",
     "iopub.status.idle": "2025-01-12T17:16:24.696243Z",
     "shell.execute_reply": "2025-01-12T17:16:24.695333Z",
     "shell.execute_reply.started": "2025-01-12T17:16:24.687244Z"
    },
    "id": "9boUU433fhpJ",
    "outputId": "792606f6-dbb3-427d-8e55-129f66ff72aa",
    "trusted": true
   },
   "outputs": [],
   "source": [
    "max_length = test_data['text'].apply(len).max() + 5000"
   ]
  },
  {
   "cell_type": "code",
   "execution_count": 4,
   "metadata": {
    "execution": {
     "iopub.execute_input": "2025-01-12T17:16:24.697430Z",
     "iopub.status.busy": "2025-01-12T17:16:24.697172Z",
     "iopub.status.idle": "2025-01-12T17:16:24.720465Z",
     "shell.execute_reply": "2025-01-12T17:16:24.719529Z",
     "shell.execute_reply.started": "2025-01-12T17:16:24.697406Z"
    },
    "id": "Nh12WQ4zfhpJ",
    "outputId": "f125069e-ec72-4d08-a943-fb0ee02e45e7",
    "trusted": true
   },
   "outputs": [
    {
     "name": "stderr",
     "output_type": "stream",
     "text": [
      "/tmp/ipykernel_23/3907645047.py:2: FutureWarning: Downcasting behavior in `replace` is deprecated and will be removed in a future version. To retain the old behavior, explicitly call `result.infer_objects(copy=False)`. To opt-in to the future behavior, set `pd.set_option('future.no_silent_downcasting', True)`\n",
      "  test_data['label_sexist'] = test_data['label_sexist'].replace({'sexist': 1, 'not sexist': 0})\n"
     ]
    },
    {
     "data": {
      "text/html": [
       "<div>\n",
       "<style scoped>\n",
       "    .dataframe tbody tr th:only-of-type {\n",
       "        vertical-align: middle;\n",
       "    }\n",
       "\n",
       "    .dataframe tbody tr th {\n",
       "        vertical-align: top;\n",
       "    }\n",
       "\n",
       "    .dataframe thead th {\n",
       "        text-align: right;\n",
       "    }\n",
       "</style>\n",
       "<table border=\"1\" class=\"dataframe\">\n",
       "  <thead>\n",
       "    <tr style=\"text-align: right;\">\n",
       "      <th></th>\n",
       "      <th>text</th>\n",
       "      <th>label_sexist</th>\n",
       "    </tr>\n",
       "  </thead>\n",
       "  <tbody>\n",
       "    <tr>\n",
       "      <th>0</th>\n",
       "      <td>The boys must be gaming because there goes the...</td>\n",
       "      <td>0</td>\n",
       "    </tr>\n",
       "    <tr>\n",
       "      <th>1</th>\n",
       "      <td>Look at those eyes. Either someone unexpectedl...</td>\n",
       "      <td>1</td>\n",
       "    </tr>\n",
       "    <tr>\n",
       "      <th>2</th>\n",
       "      <td>Old man mogs everyone in this sub</td>\n",
       "      <td>0</td>\n",
       "    </tr>\n",
       "    <tr>\n",
       "      <th>3</th>\n",
       "      <td>Excellent, I was just looking at another post ...</td>\n",
       "      <td>0</td>\n",
       "    </tr>\n",
       "    <tr>\n",
       "      <th>4</th>\n",
       "      <td>So you run back to daddy whenever you need hel...</td>\n",
       "      <td>1</td>\n",
       "    </tr>\n",
       "    <tr>\n",
       "      <th>5</th>\n",
       "      <td>Don't think that using the word \"feminine\" was...</td>\n",
       "      <td>1</td>\n",
       "    </tr>\n",
       "    <tr>\n",
       "      <th>6</th>\n",
       "      <td>‪Import the third world and become the third w...</td>\n",
       "      <td>0</td>\n",
       "    </tr>\n",
       "    <tr>\n",
       "      <th>7</th>\n",
       "      <td>Most women find a highly educated and well tra...</td>\n",
       "      <td>0</td>\n",
       "    </tr>\n",
       "    <tr>\n",
       "      <th>8</th>\n",
       "      <td>That's female fantasy. I have a lot of experie...</td>\n",
       "      <td>1</td>\n",
       "    </tr>\n",
       "    <tr>\n",
       "      <th>9</th>\n",
       "      <td>Miss Pony [USER] posting her own home made por...</td>\n",
       "      <td>1</td>\n",
       "    </tr>\n",
       "  </tbody>\n",
       "</table>\n",
       "</div>"
      ],
      "text/plain": [
       "                                                text  label_sexist\n",
       "0  The boys must be gaming because there goes the...             0\n",
       "1  Look at those eyes. Either someone unexpectedl...             1\n",
       "2                  Old man mogs everyone in this sub             0\n",
       "3  Excellent, I was just looking at another post ...             0\n",
       "4  So you run back to daddy whenever you need hel...             1\n",
       "5  Don't think that using the word \"feminine\" was...             1\n",
       "6  ‪Import the third world and become the third w...             0\n",
       "7  Most women find a highly educated and well tra...             0\n",
       "8  That's female fantasy. I have a lot of experie...             1\n",
       "9  Miss Pony [USER] posting her own home made por...             1"
      ]
     },
     "execution_count": 4,
     "metadata": {},
     "output_type": "execute_result"
    }
   ],
   "source": [
    "test_data = test_data.drop([\"rewire_id\"],axis = 1)\n",
    "test_data['label_sexist'] = test_data['label_sexist'].replace({'sexist': 1, 'not sexist': 0})\n",
    "test_data.head(10)"
   ]
  },
  {
   "cell_type": "code",
   "execution_count": 5,
   "metadata": {
    "execution": {
     "iopub.execute_input": "2025-01-12T17:16:26.581652Z",
     "iopub.status.busy": "2025-01-12T17:16:26.581304Z",
     "iopub.status.idle": "2025-01-12T17:16:26.594511Z",
     "shell.execute_reply": "2025-01-12T17:16:26.593599Z",
     "shell.execute_reply.started": "2025-01-12T17:16:26.581623Z"
    },
    "id": "J62A5QgqfhpK",
    "outputId": "00bd512a-b9f9-4d0d-f721-0c28a9abb1ea",
    "trusted": true
   },
   "outputs": [
    {
     "name": "stderr",
     "output_type": "stream",
     "text": [
      "/tmp/ipykernel_23/292542436.py:2: FutureWarning: Downcasting behavior in `replace` is deprecated and will be removed in a future version. To retain the old behavior, explicitly call `result.infer_objects(copy=False)`. To opt-in to the future behavior, set `pd.set_option('future.no_silent_downcasting', True)`\n",
      "  demo_data['label_sexist'] = demo_data['label_sexist'].replace({'sexist': 1, 'not sexist': 0})\n"
     ]
    },
    {
     "data": {
      "text/html": [
       "<div>\n",
       "<style scoped>\n",
       "    .dataframe tbody tr th:only-of-type {\n",
       "        vertical-align: middle;\n",
       "    }\n",
       "\n",
       "    .dataframe tbody tr th {\n",
       "        vertical-align: top;\n",
       "    }\n",
       "\n",
       "    .dataframe thead th {\n",
       "        text-align: right;\n",
       "    }\n",
       "</style>\n",
       "<table border=\"1\" class=\"dataframe\">\n",
       "  <thead>\n",
       "    <tr style=\"text-align: right;\">\n",
       "      <th></th>\n",
       "      <th>text</th>\n",
       "      <th>label_sexist</th>\n",
       "    </tr>\n",
       "  </thead>\n",
       "  <tbody>\n",
       "    <tr>\n",
       "      <th>0</th>\n",
       "      <td>I would never have my kid go to a daycare with...</td>\n",
       "      <td>0</td>\n",
       "    </tr>\n",
       "    <tr>\n",
       "      <th>1</th>\n",
       "      <td>Democrat women are so butt fucking ugly.</td>\n",
       "      <td>1</td>\n",
       "    </tr>\n",
       "    <tr>\n",
       "      <th>2</th>\n",
       "      <td>If you really wanted to twist the knife you’d ...</td>\n",
       "      <td>0</td>\n",
       "    </tr>\n",
       "    <tr>\n",
       "      <th>3</th>\n",
       "      <td>Those women are pro-rape. They didn’t care abo...</td>\n",
       "      <td>1</td>\n",
       "    </tr>\n",
       "    <tr>\n",
       "      <th>4</th>\n",
       "      <td>Married a bitch... Is it the standard scenario...</td>\n",
       "      <td>1</td>\n",
       "    </tr>\n",
       "    <tr>\n",
       "      <th>5</th>\n",
       "      <td>Cause you said “was” going to be a against her...</td>\n",
       "      <td>1</td>\n",
       "    </tr>\n",
       "    <tr>\n",
       "      <th>6</th>\n",
       "      <td>Sounds like your sister is trying to make you ...</td>\n",
       "      <td>1</td>\n",
       "    </tr>\n",
       "    <tr>\n",
       "      <th>7</th>\n",
       "      <td>Don't bother arguing with women. They don't ca...</td>\n",
       "      <td>1</td>\n",
       "    </tr>\n",
       "    <tr>\n",
       "      <th>8</th>\n",
       "      <td>Trump's America where police take no shit from...</td>\n",
       "      <td>1</td>\n",
       "    </tr>\n",
       "    <tr>\n",
       "      <th>9</th>\n",
       "      <td>So she was groped in front of a blind man who ...</td>\n",
       "      <td>1</td>\n",
       "    </tr>\n",
       "  </tbody>\n",
       "</table>\n",
       "</div>"
      ],
      "text/plain": [
       "                                                text  label_sexist\n",
       "0  I would never have my kid go to a daycare with...             0\n",
       "1           Democrat women are so butt fucking ugly.             1\n",
       "2  If you really wanted to twist the knife you’d ...             0\n",
       "3  Those women are pro-rape. They didn’t care abo...             1\n",
       "4  Married a bitch... Is it the standard scenario...             1\n",
       "5  Cause you said “was” going to be a against her...             1\n",
       "6  Sounds like your sister is trying to make you ...             1\n",
       "7  Don't bother arguing with women. They don't ca...             1\n",
       "8  Trump's America where police take no shit from...             1\n",
       "9  So she was groped in front of a blind man who ...             1"
      ]
     },
     "execution_count": 5,
     "metadata": {},
     "output_type": "execute_result"
    }
   ],
   "source": [
    "demo_data = demo_data.drop([\"rewire_id\"],axis = 1)\n",
    "demo_data['label_sexist'] = demo_data['label_sexist'].replace({'sexist': 1, 'not sexist': 0})\n",
    "demo_data.head(10)"
   ]
  },
  {
   "cell_type": "markdown",
   "metadata": {
    "id": "B5XyOcFGLJnd"
   },
   "source": [
    "### Instructions\n",
    "\n",
    "We require you to:\n",
    "\n",
    "* **Download** the ``A2/data`` folder.\n",
    "* **Encode** ``a2_test.csv`` into a ``pandas.DataFrame`` object."
   ]
  },
  {
   "cell_type": "markdown",
   "metadata": {
    "id": "HJp08l4yLJnd"
   },
   "source": [
    "# [Task 1 - 0.5 points] Model setup\n",
    "\n",
    "Once the test data has been loaded, we have to setup the model pipeline for inference.\n",
    "\n",
    "In particular, we have to:\n",
    "- Load the model weights from Huggingface\n",
    "- Quantize the model to fit into a single-GPU limited hardware"
   ]
  },
  {
   "cell_type": "markdown",
   "metadata": {
    "id": "ptffotFIjq89"
   },
   "source": [
    "## Which LLMs?\n",
    "\n",
    "The pool of LLMs is ever increasing and it's impossible to keep track of all new entries.\n",
    "\n",
    "We focus on popular open-source models.\n",
    "\n",
    "- [Mistral v2](mistralai/Mistral-7B-Instruct-v0.2)\n",
    "- [Mistral v3](mistralai/Mistral-7B-Instruct-v0.3)\n",
    "- [Llama v3.1](https://huggingface.co/meta-llama/Llama-3.1-8B-Instruct)\n",
    "- [Phi3-mini](https://huggingface.co/microsoft/Phi-3-mini-4k-instruct)\n",
    "\n",
    "Other open-source models are more than welcome!"
   ]
  },
  {
   "cell_type": "markdown",
   "metadata": {
    "id": "uH1YShLfLJnd"
   },
   "source": [
    "### Instructions\n",
    "\n",
    "In order to get Task 1 points, we require you to:\n",
    "\n",
    "* Pick 2 model cards from the provided list.\n",
    "* For each model:\n",
    "  - Define a separate section of your notebook for the model.\n",
    "  - Setup a quantization configuration for the model.\n",
    "  - Load the model via HuggingFace APIs.\n"
   ]
  },
  {
   "cell_type": "markdown",
   "metadata": {
    "id": "Y8ORld7klCfG"
   },
   "source": [
    "### Notes\n",
    "\n",
    "1. There's a popular library integrated with Huggingface's ``transformers`` to perform quantization.\n",
    "\n",
    "2. Define two separate sections of your notebook to show that you have implemented the prompting pipeline for each selected model card."
   ]
  },
  {
   "cell_type": "code",
   "execution_count": 6,
   "metadata": {
    "execution": {
     "iopub.execute_input": "2025-01-12T17:16:31.709292Z",
     "iopub.status.busy": "2025-01-12T17:16:31.708596Z",
     "iopub.status.idle": "2025-01-12T17:17:19.859858Z",
     "shell.execute_reply": "2025-01-12T17:17:19.858963Z",
     "shell.execute_reply.started": "2025-01-12T17:16:31.709256Z"
    },
    "id": "aqygtsVYfhpL",
    "trusted": true
   },
   "outputs": [
    {
     "name": "stdout",
     "output_type": "stream",
     "text": [
      "Requirement already satisfied: transformers in /opt/conda/lib/python3.10/site-packages (4.46.3)\n",
      "Requirement already satisfied: filelock in /opt/conda/lib/python3.10/site-packages (from transformers) (3.15.1)\n",
      "Requirement already satisfied: huggingface-hub<1.0,>=0.23.2 in /opt/conda/lib/python3.10/site-packages (from transformers) (0.26.2)\n",
      "Requirement already satisfied: numpy>=1.17 in /opt/conda/lib/python3.10/site-packages (from transformers) (1.26.4)\n",
      "Requirement already satisfied: packaging>=20.0 in /opt/conda/lib/python3.10/site-packages (from transformers) (21.3)\n",
      "Requirement already satisfied: pyyaml>=5.1 in /opt/conda/lib/python3.10/site-packages (from transformers) (6.0.2)\n",
      "Requirement already satisfied: regex!=2019.12.17 in /opt/conda/lib/python3.10/site-packages (from transformers) (2024.5.15)\n",
      "Requirement already satisfied: requests in /opt/conda/lib/python3.10/site-packages (from transformers) (2.32.3)\n",
      "Requirement already satisfied: tokenizers<0.21,>=0.20 in /opt/conda/lib/python3.10/site-packages (from transformers) (0.20.3)\n",
      "Requirement already satisfied: safetensors>=0.4.1 in /opt/conda/lib/python3.10/site-packages (from transformers) (0.4.5)\n",
      "Requirement already satisfied: tqdm>=4.27 in /opt/conda/lib/python3.10/site-packages (from transformers) (4.66.4)\n",
      "Requirement already satisfied: fsspec>=2023.5.0 in /opt/conda/lib/python3.10/site-packages (from huggingface-hub<1.0,>=0.23.2->transformers) (2024.6.0)\n",
      "Requirement already satisfied: typing-extensions>=3.7.4.3 in /opt/conda/lib/python3.10/site-packages (from huggingface-hub<1.0,>=0.23.2->transformers) (4.12.2)\n",
      "Requirement already satisfied: pyparsing!=3.0.5,>=2.0.2 in /opt/conda/lib/python3.10/site-packages (from packaging>=20.0->transformers) (3.1.2)\n",
      "Requirement already satisfied: charset-normalizer<4,>=2 in /opt/conda/lib/python3.10/site-packages (from requests->transformers) (3.3.2)\n",
      "Requirement already satisfied: idna<4,>=2.5 in /opt/conda/lib/python3.10/site-packages (from requests->transformers) (3.7)\n",
      "Requirement already satisfied: urllib3<3,>=1.21.1 in /opt/conda/lib/python3.10/site-packages (from requests->transformers) (1.26.18)\n",
      "Requirement already satisfied: certifi>=2017.4.17 in /opt/conda/lib/python3.10/site-packages (from requests->transformers) (2024.6.2)\n",
      "Requirement already satisfied: datasets in /opt/conda/lib/python3.10/site-packages (3.1.0)\n",
      "Requirement already satisfied: filelock in /opt/conda/lib/python3.10/site-packages (from datasets) (3.15.1)\n",
      "Requirement already satisfied: numpy>=1.17 in /opt/conda/lib/python3.10/site-packages (from datasets) (1.26.4)\n",
      "Requirement already satisfied: pyarrow>=15.0.0 in /opt/conda/lib/python3.10/site-packages (from datasets) (17.0.0)\n",
      "Requirement already satisfied: dill<0.3.9,>=0.3.0 in /opt/conda/lib/python3.10/site-packages (from datasets) (0.3.8)\n",
      "Requirement already satisfied: pandas in /opt/conda/lib/python3.10/site-packages (from datasets) (2.2.3)\n",
      "Requirement already satisfied: requests>=2.32.2 in /opt/conda/lib/python3.10/site-packages (from datasets) (2.32.3)\n",
      "Requirement already satisfied: tqdm>=4.66.3 in /opt/conda/lib/python3.10/site-packages (from datasets) (4.66.4)\n",
      "Requirement already satisfied: xxhash in /opt/conda/lib/python3.10/site-packages (from datasets) (3.4.1)\n",
      "Requirement already satisfied: multiprocess<0.70.17 in /opt/conda/lib/python3.10/site-packages (from datasets) (0.70.16)\n",
      "Requirement already satisfied: fsspec<=2024.9.0,>=2023.1.0 in /opt/conda/lib/python3.10/site-packages (from fsspec[http]<=2024.9.0,>=2023.1.0->datasets) (2024.6.0)\n",
      "Requirement already satisfied: aiohttp in /opt/conda/lib/python3.10/site-packages (from datasets) (3.9.5)\n",
      "Requirement already satisfied: huggingface-hub>=0.23.0 in /opt/conda/lib/python3.10/site-packages (from datasets) (0.26.2)\n",
      "Requirement already satisfied: packaging in /opt/conda/lib/python3.10/site-packages (from datasets) (21.3)\n",
      "Requirement already satisfied: pyyaml>=5.1 in /opt/conda/lib/python3.10/site-packages (from datasets) (6.0.2)\n",
      "Requirement already satisfied: aiosignal>=1.1.2 in /opt/conda/lib/python3.10/site-packages (from aiohttp->datasets) (1.3.1)\n",
      "Requirement already satisfied: attrs>=17.3.0 in /opt/conda/lib/python3.10/site-packages (from aiohttp->datasets) (23.2.0)\n",
      "Requirement already satisfied: frozenlist>=1.1.1 in /opt/conda/lib/python3.10/site-packages (from aiohttp->datasets) (1.4.1)\n",
      "Requirement already satisfied: multidict<7.0,>=4.5 in /opt/conda/lib/python3.10/site-packages (from aiohttp->datasets) (6.0.5)\n",
      "Requirement already satisfied: yarl<2.0,>=1.0 in /opt/conda/lib/python3.10/site-packages (from aiohttp->datasets) (1.9.4)\n",
      "Requirement already satisfied: async-timeout<5.0,>=4.0 in /opt/conda/lib/python3.10/site-packages (from aiohttp->datasets) (4.0.3)\n",
      "Requirement already satisfied: typing-extensions>=3.7.4.3 in /opt/conda/lib/python3.10/site-packages (from huggingface-hub>=0.23.0->datasets) (4.12.2)\n",
      "Requirement already satisfied: pyparsing!=3.0.5,>=2.0.2 in /opt/conda/lib/python3.10/site-packages (from packaging->datasets) (3.1.2)\n",
      "Requirement already satisfied: charset-normalizer<4,>=2 in /opt/conda/lib/python3.10/site-packages (from requests>=2.32.2->datasets) (3.3.2)\n",
      "Requirement already satisfied: idna<4,>=2.5 in /opt/conda/lib/python3.10/site-packages (from requests>=2.32.2->datasets) (3.7)\n",
      "Requirement already satisfied: urllib3<3,>=1.21.1 in /opt/conda/lib/python3.10/site-packages (from requests>=2.32.2->datasets) (1.26.18)\n",
      "Requirement already satisfied: certifi>=2017.4.17 in /opt/conda/lib/python3.10/site-packages (from requests>=2.32.2->datasets) (2024.6.2)\n",
      "Requirement already satisfied: python-dateutil>=2.8.2 in /opt/conda/lib/python3.10/site-packages (from pandas->datasets) (2.9.0.post0)\n",
      "Requirement already satisfied: pytz>=2020.1 in /opt/conda/lib/python3.10/site-packages (from pandas->datasets) (2024.1)\n",
      "Requirement already satisfied: tzdata>=2022.7 in /opt/conda/lib/python3.10/site-packages (from pandas->datasets) (2024.1)\n",
      "Requirement already satisfied: six>=1.5 in /opt/conda/lib/python3.10/site-packages (from python-dateutil>=2.8.2->pandas->datasets) (1.16.0)\n",
      "Requirement already satisfied: accelerate in /opt/conda/lib/python3.10/site-packages (1.1.1)\n",
      "Collecting accelerate\n",
      "  Downloading accelerate-1.2.1-py3-none-any.whl.metadata (19 kB)\n",
      "Requirement already satisfied: numpy<3.0.0,>=1.17 in /opt/conda/lib/python3.10/site-packages (from accelerate) (1.26.4)\n",
      "Requirement already satisfied: packaging>=20.0 in /opt/conda/lib/python3.10/site-packages (from accelerate) (21.3)\n",
      "Requirement already satisfied: psutil in /opt/conda/lib/python3.10/site-packages (from accelerate) (5.9.3)\n",
      "Requirement already satisfied: pyyaml in /opt/conda/lib/python3.10/site-packages (from accelerate) (6.0.2)\n",
      "Requirement already satisfied: torch>=1.10.0 in /opt/conda/lib/python3.10/site-packages (from accelerate) (2.4.0)\n",
      "Requirement already satisfied: huggingface-hub>=0.21.0 in /opt/conda/lib/python3.10/site-packages (from accelerate) (0.26.2)\n",
      "Requirement already satisfied: safetensors>=0.4.3 in /opt/conda/lib/python3.10/site-packages (from accelerate) (0.4.5)\n",
      "Requirement already satisfied: filelock in /opt/conda/lib/python3.10/site-packages (from huggingface-hub>=0.21.0->accelerate) (3.15.1)\n",
      "Requirement already satisfied: fsspec>=2023.5.0 in /opt/conda/lib/python3.10/site-packages (from huggingface-hub>=0.21.0->accelerate) (2024.6.0)\n",
      "Requirement already satisfied: requests in /opt/conda/lib/python3.10/site-packages (from huggingface-hub>=0.21.0->accelerate) (2.32.3)\n",
      "Requirement already satisfied: tqdm>=4.42.1 in /opt/conda/lib/python3.10/site-packages (from huggingface-hub>=0.21.0->accelerate) (4.66.4)\n",
      "Requirement already satisfied: typing-extensions>=3.7.4.3 in /opt/conda/lib/python3.10/site-packages (from huggingface-hub>=0.21.0->accelerate) (4.12.2)\n",
      "Requirement already satisfied: pyparsing!=3.0.5,>=2.0.2 in /opt/conda/lib/python3.10/site-packages (from packaging>=20.0->accelerate) (3.1.2)\n",
      "Requirement already satisfied: sympy in /opt/conda/lib/python3.10/site-packages (from torch>=1.10.0->accelerate) (1.13.3)\n",
      "Requirement already satisfied: networkx in /opt/conda/lib/python3.10/site-packages (from torch>=1.10.0->accelerate) (3.3)\n",
      "Requirement already satisfied: jinja2 in /opt/conda/lib/python3.10/site-packages (from torch>=1.10.0->accelerate) (3.1.4)\n",
      "Requirement already satisfied: MarkupSafe>=2.0 in /opt/conda/lib/python3.10/site-packages (from jinja2->torch>=1.10.0->accelerate) (2.1.5)\n",
      "Requirement already satisfied: charset-normalizer<4,>=2 in /opt/conda/lib/python3.10/site-packages (from requests->huggingface-hub>=0.21.0->accelerate) (3.3.2)\n",
      "Requirement already satisfied: idna<4,>=2.5 in /opt/conda/lib/python3.10/site-packages (from requests->huggingface-hub>=0.21.0->accelerate) (3.7)\n",
      "Requirement already satisfied: urllib3<3,>=1.21.1 in /opt/conda/lib/python3.10/site-packages (from requests->huggingface-hub>=0.21.0->accelerate) (1.26.18)\n",
      "Requirement already satisfied: certifi>=2017.4.17 in /opt/conda/lib/python3.10/site-packages (from requests->huggingface-hub>=0.21.0->accelerate) (2024.6.2)\n",
      "Requirement already satisfied: mpmath<1.4,>=1.1.0 in /opt/conda/lib/python3.10/site-packages (from sympy->torch>=1.10.0->accelerate) (1.3.0)\n",
      "Downloading accelerate-1.2.1-py3-none-any.whl (336 kB)\n",
      "\u001b[2K   \u001b[90m━━━━━━━━━━━━━━━━━━━━━━━━━━━━━━━━━━━━━━━━\u001b[0m \u001b[32m336.4/336.4 kB\u001b[0m \u001b[31m6.2 MB/s\u001b[0m eta \u001b[36m0:00:00\u001b[0mta \u001b[36m0:00:01\u001b[0m\n",
      "\u001b[?25hInstalling collected packages: accelerate\n",
      "  Attempting uninstall: accelerate\n",
      "    Found existing installation: accelerate 1.1.1\n",
      "    Uninstalling accelerate-1.1.1:\n",
      "      Successfully uninstalled accelerate-1.1.1\n",
      "Successfully installed accelerate-1.2.1\n",
      "Collecting evaluate\n",
      "  Downloading evaluate-0.4.3-py3-none-any.whl.metadata (9.2 kB)\n",
      "Requirement already satisfied: datasets>=2.0.0 in /opt/conda/lib/python3.10/site-packages (from evaluate) (3.1.0)\n",
      "Requirement already satisfied: numpy>=1.17 in /opt/conda/lib/python3.10/site-packages (from evaluate) (1.26.4)\n",
      "Requirement already satisfied: dill in /opt/conda/lib/python3.10/site-packages (from evaluate) (0.3.8)\n",
      "Requirement already satisfied: pandas in /opt/conda/lib/python3.10/site-packages (from evaluate) (2.2.3)\n",
      "Requirement already satisfied: requests>=2.19.0 in /opt/conda/lib/python3.10/site-packages (from evaluate) (2.32.3)\n",
      "Requirement already satisfied: tqdm>=4.62.1 in /opt/conda/lib/python3.10/site-packages (from evaluate) (4.66.4)\n",
      "Requirement already satisfied: xxhash in /opt/conda/lib/python3.10/site-packages (from evaluate) (3.4.1)\n",
      "Requirement already satisfied: multiprocess in /opt/conda/lib/python3.10/site-packages (from evaluate) (0.70.16)\n",
      "Requirement already satisfied: fsspec>=2021.05.0 in /opt/conda/lib/python3.10/site-packages (from fsspec[http]>=2021.05.0->evaluate) (2024.6.0)\n",
      "Requirement already satisfied: huggingface-hub>=0.7.0 in /opt/conda/lib/python3.10/site-packages (from evaluate) (0.26.2)\n",
      "Requirement already satisfied: packaging in /opt/conda/lib/python3.10/site-packages (from evaluate) (21.3)\n",
      "Requirement already satisfied: filelock in /opt/conda/lib/python3.10/site-packages (from datasets>=2.0.0->evaluate) (3.15.1)\n",
      "Requirement already satisfied: pyarrow>=15.0.0 in /opt/conda/lib/python3.10/site-packages (from datasets>=2.0.0->evaluate) (17.0.0)\n",
      "Requirement already satisfied: aiohttp in /opt/conda/lib/python3.10/site-packages (from datasets>=2.0.0->evaluate) (3.9.5)\n",
      "Requirement already satisfied: pyyaml>=5.1 in /opt/conda/lib/python3.10/site-packages (from datasets>=2.0.0->evaluate) (6.0.2)\n",
      "Requirement already satisfied: typing-extensions>=3.7.4.3 in /opt/conda/lib/python3.10/site-packages (from huggingface-hub>=0.7.0->evaluate) (4.12.2)\n",
      "Requirement already satisfied: pyparsing!=3.0.5,>=2.0.2 in /opt/conda/lib/python3.10/site-packages (from packaging->evaluate) (3.1.2)\n",
      "Requirement already satisfied: charset-normalizer<4,>=2 in /opt/conda/lib/python3.10/site-packages (from requests>=2.19.0->evaluate) (3.3.2)\n",
      "Requirement already satisfied: idna<4,>=2.5 in /opt/conda/lib/python3.10/site-packages (from requests>=2.19.0->evaluate) (3.7)\n",
      "Requirement already satisfied: urllib3<3,>=1.21.1 in /opt/conda/lib/python3.10/site-packages (from requests>=2.19.0->evaluate) (1.26.18)\n",
      "Requirement already satisfied: certifi>=2017.4.17 in /opt/conda/lib/python3.10/site-packages (from requests>=2.19.0->evaluate) (2024.6.2)\n",
      "Requirement already satisfied: python-dateutil>=2.8.2 in /opt/conda/lib/python3.10/site-packages (from pandas->evaluate) (2.9.0.post0)\n",
      "Requirement already satisfied: pytz>=2020.1 in /opt/conda/lib/python3.10/site-packages (from pandas->evaluate) (2024.1)\n",
      "Requirement already satisfied: tzdata>=2022.7 in /opt/conda/lib/python3.10/site-packages (from pandas->evaluate) (2024.1)\n",
      "Requirement already satisfied: aiosignal>=1.1.2 in /opt/conda/lib/python3.10/site-packages (from aiohttp->datasets>=2.0.0->evaluate) (1.3.1)\n",
      "Requirement already satisfied: attrs>=17.3.0 in /opt/conda/lib/python3.10/site-packages (from aiohttp->datasets>=2.0.0->evaluate) (23.2.0)\n",
      "Requirement already satisfied: frozenlist>=1.1.1 in /opt/conda/lib/python3.10/site-packages (from aiohttp->datasets>=2.0.0->evaluate) (1.4.1)\n",
      "Requirement already satisfied: multidict<7.0,>=4.5 in /opt/conda/lib/python3.10/site-packages (from aiohttp->datasets>=2.0.0->evaluate) (6.0.5)\n",
      "Requirement already satisfied: yarl<2.0,>=1.0 in /opt/conda/lib/python3.10/site-packages (from aiohttp->datasets>=2.0.0->evaluate) (1.9.4)\n",
      "Requirement already satisfied: async-timeout<5.0,>=4.0 in /opt/conda/lib/python3.10/site-packages (from aiohttp->datasets>=2.0.0->evaluate) (4.0.3)\n",
      "Requirement already satisfied: six>=1.5 in /opt/conda/lib/python3.10/site-packages (from python-dateutil>=2.8.2->pandas->evaluate) (1.16.0)\n",
      "Downloading evaluate-0.4.3-py3-none-any.whl (84 kB)\n",
      "\u001b[2K   \u001b[90m━━━━━━━━━━━━━━━━━━━━━━━━━━━━━━━━━━━━━━━━\u001b[0m \u001b[32m84.0/84.0 kB\u001b[0m \u001b[31m3.2 MB/s\u001b[0m eta \u001b[36m0:00:00\u001b[0m\n",
      "\u001b[?25hInstalling collected packages: evaluate\n",
      "Successfully installed evaluate-0.4.3\n",
      "Collecting bitsandbytes\n",
      "  Downloading bitsandbytes-0.45.0-py3-none-manylinux_2_24_x86_64.whl.metadata (2.9 kB)\n",
      "Requirement already satisfied: torch in /opt/conda/lib/python3.10/site-packages (from bitsandbytes) (2.4.0)\n",
      "Requirement already satisfied: numpy in /opt/conda/lib/python3.10/site-packages (from bitsandbytes) (1.26.4)\n",
      "Requirement already satisfied: typing_extensions>=4.8.0 in /opt/conda/lib/python3.10/site-packages (from bitsandbytes) (4.12.2)\n",
      "Requirement already satisfied: filelock in /opt/conda/lib/python3.10/site-packages (from torch->bitsandbytes) (3.15.1)\n",
      "Requirement already satisfied: sympy in /opt/conda/lib/python3.10/site-packages (from torch->bitsandbytes) (1.13.3)\n",
      "Requirement already satisfied: networkx in /opt/conda/lib/python3.10/site-packages (from torch->bitsandbytes) (3.3)\n",
      "Requirement already satisfied: jinja2 in /opt/conda/lib/python3.10/site-packages (from torch->bitsandbytes) (3.1.4)\n",
      "Requirement already satisfied: fsspec in /opt/conda/lib/python3.10/site-packages (from torch->bitsandbytes) (2024.6.0)\n",
      "Requirement already satisfied: MarkupSafe>=2.0 in /opt/conda/lib/python3.10/site-packages (from jinja2->torch->bitsandbytes) (2.1.5)\n",
      "Requirement already satisfied: mpmath<1.4,>=1.1.0 in /opt/conda/lib/python3.10/site-packages (from sympy->torch->bitsandbytes) (1.3.0)\n",
      "Downloading bitsandbytes-0.45.0-py3-none-manylinux_2_24_x86_64.whl (69.1 MB)\n",
      "\u001b[2K   \u001b[90m━━━━━━━━━━━━━━━━━━━━━━━━━━━━━━━━━━━━━━━━\u001b[0m \u001b[32m69.1/69.1 MB\u001b[0m \u001b[31m25.6 MB/s\u001b[0m eta \u001b[36m0:00:00\u001b[0m:00:01\u001b[0m00:01\u001b[0m\n",
      "\u001b[?25hInstalling collected packages: bitsandbytes\n",
      "Successfully installed bitsandbytes-0.45.0\n"
     ]
    }
   ],
   "source": [
    "#install useful libraries\n",
    "!pip install transformers\n",
    "!pip install datasets\n",
    "!pip install accelerate -U\n",
    "!pip install evaluate\n",
    "!pip install -U bitsandbytes"
   ]
  },
  {
   "cell_type": "code",
   "execution_count": 7,
   "metadata": {
    "execution": {
     "iopub.execute_input": "2025-01-12T17:17:19.862052Z",
     "iopub.status.busy": "2025-01-12T17:17:19.861742Z",
     "iopub.status.idle": "2025-01-12T17:17:23.331116Z",
     "shell.execute_reply": "2025-01-12T17:17:23.330252Z",
     "shell.execute_reply.started": "2025-01-12T17:17:19.862024Z"
    },
    "id": "xJVl1_5CfhpL",
    "outputId": "515961c2-04db-4ae4-aea1-7f24fdca620a",
    "trusted": true
   },
   "outputs": [
    {
     "data": {
      "text/plain": [
       "{'width': 2560, 'height': 1440, 'scroll': True}"
      ]
     },
     "execution_count": 7,
     "metadata": {},
     "output_type": "execute_result"
    }
   ],
   "source": [
    "#import some useful datasets\n",
    "# system packages\n",
    "from pathlib import Path\n",
    "import shutil\n",
    "import urllib\n",
    "import tarfile\n",
    "import sys\n",
    "\n",
    "# data and numerical management packages\n",
    "import pandas as pd\n",
    "import numpy as np\n",
    "\n",
    "# useful during debugging (progress bars)\n",
    "from tqdm import tqdm\n",
    "\n",
    "import os\n",
    "\n",
    "#other packages\n",
    "import torch\n",
    "from transformers import BitsAndBytesConfig\n",
    "\n",
    "from notebook.services.config import ConfigManager\n",
    "cm = ConfigManager()\n",
    "cm.update('livereveal', {\n",
    "        'width': 2560,\n",
    "        'height': 1440,\n",
    "        'scroll': True,\n",
    "})"
   ]
  },
  {
   "cell_type": "code",
   "execution_count": 8,
   "metadata": {
    "execution": {
     "iopub.execute_input": "2025-01-12T17:17:23.332633Z",
     "iopub.status.busy": "2025-01-12T17:17:23.332279Z",
     "iopub.status.idle": "2025-01-12T17:17:37.343530Z",
     "shell.execute_reply": "2025-01-12T17:17:37.342548Z",
     "shell.execute_reply.started": "2025-01-12T17:17:23.332607Z"
    },
    "executionInfo": {
     "elapsed": 386,
     "status": "ok",
     "timestamp": 1736335798612,
     "user": {
      "displayName": "lucy lucy",
      "userId": "03941811928744275697"
     },
     "user_tz": -120
    },
    "id": "XKC07FWBrM1K",
    "trusted": true
   },
   "outputs": [],
   "source": [
    "from transformers import pipeline, AutoModelForCausalLM, AutoTokenizer\n",
    "\n",
    "def set_up_model(model_card):\n",
    "  tokenizer = AutoTokenizer.from_pretrained(model_card)\n",
    "  tokenizer.pad_token = tokenizer.eos_token\n",
    "  tokenizer.padding_side = \"left\"\n",
    "  tokenizer.model_max_length = max_length\n",
    "\n",
    "  terminators= [\n",
    "      tokenizer.eos_token_id,\n",
    "      tokenizer.convert_tokens_to_ids(\"<|eot_id|>\")\n",
    "  ]\n",
    "\n",
    "  bnb_config = BitsAndBytesConfig(\n",
    "      load_in_4bit=True,\n",
    "      bnb_4bit_use_double_quant=True,\n",
    "      bnb_4bit_quant_type=\"nf4\",\n",
    "      bnb_4bit_compute_dtype=torch.bfloat16,\n",
    "  )\n",
    "\n",
    "  # Load the model with the configuration\n",
    "  model = AutoModelForCausalLM.from_pretrained(\n",
    "      model_card,\n",
    "      quantization_config=bnb_config,\n",
    "      device_map=\"auto\"\n",
    "  )\n",
    "\n",
    "  return model, tokenizer"
   ]
  },
  {
   "cell_type": "markdown",
   "metadata": {},
   "source": [
    "### Gwen"
   ]
  },
  {
   "cell_type": "code",
   "execution_count": 9,
   "metadata": {
    "execution": {
     "iopub.execute_input": "2025-01-12T17:17:37.346416Z",
     "iopub.status.busy": "2025-01-12T17:17:37.345842Z",
     "iopub.status.idle": "2025-01-12T17:24:30.127157Z",
     "shell.execute_reply": "2025-01-12T17:24:30.126404Z",
     "shell.execute_reply.started": "2025-01-12T17:17:37.346387Z"
    },
    "trusted": true
   },
   "outputs": [
    {
     "data": {
      "application/vnd.jupyter.widget-view+json": {
       "model_id": "d79bca15e6d8416cae8e4b71b24d2224",
       "version_major": 2,
       "version_minor": 0
      },
      "text/plain": [
       "tokenizer_config.json:   0%|          | 0.00/1.29k [00:00<?, ?B/s]"
      ]
     },
     "metadata": {},
     "output_type": "display_data"
    },
    {
     "data": {
      "application/vnd.jupyter.widget-view+json": {
       "model_id": "5d7d3cf346d945e6b6b61f2eb7aedab0",
       "version_major": 2,
       "version_minor": 0
      },
      "text/plain": [
       "vocab.json:   0%|          | 0.00/2.78M [00:00<?, ?B/s]"
      ]
     },
     "metadata": {},
     "output_type": "display_data"
    },
    {
     "data": {
      "application/vnd.jupyter.widget-view+json": {
       "model_id": "4fc2adb92d45476f8ed516eb6deff1fa",
       "version_major": 2,
       "version_minor": 0
      },
      "text/plain": [
       "merges.txt:   0%|          | 0.00/1.67M [00:00<?, ?B/s]"
      ]
     },
     "metadata": {},
     "output_type": "display_data"
    },
    {
     "data": {
      "application/vnd.jupyter.widget-view+json": {
       "model_id": "2d747438c8f546dcbd6e72db9ea6c118",
       "version_major": 2,
       "version_minor": 0
      },
      "text/plain": [
       "tokenizer.json:   0%|          | 0.00/7.03M [00:00<?, ?B/s]"
      ]
     },
     "metadata": {},
     "output_type": "display_data"
    },
    {
     "data": {
      "application/vnd.jupyter.widget-view+json": {
       "model_id": "7b4c9a48756c4b7c9631ac8590b04583",
       "version_major": 2,
       "version_minor": 0
      },
      "text/plain": [
       "config.json:   0%|          | 0.00/663 [00:00<?, ?B/s]"
      ]
     },
     "metadata": {},
     "output_type": "display_data"
    },
    {
     "data": {
      "application/vnd.jupyter.widget-view+json": {
       "model_id": "b57e60294be34a69a5031a965eae0ebf",
       "version_major": 2,
       "version_minor": 0
      },
      "text/plain": [
       "model.safetensors.index.json:   0%|          | 0.00/27.8k [00:00<?, ?B/s]"
      ]
     },
     "metadata": {},
     "output_type": "display_data"
    },
    {
     "data": {
      "application/vnd.jupyter.widget-view+json": {
       "model_id": "399f880b923f48e48f6ddfdcc798e5a8",
       "version_major": 2,
       "version_minor": 0
      },
      "text/plain": [
       "Downloading shards:   0%|          | 0/4 [00:00<?, ?it/s]"
      ]
     },
     "metadata": {},
     "output_type": "display_data"
    },
    {
     "data": {
      "application/vnd.jupyter.widget-view+json": {
       "model_id": "88d94b3f033a4db8973ba03647851681",
       "version_major": 2,
       "version_minor": 0
      },
      "text/plain": [
       "model-00001-of-00004.safetensors:   0%|          | 0.00/3.95G [00:00<?, ?B/s]"
      ]
     },
     "metadata": {},
     "output_type": "display_data"
    },
    {
     "data": {
      "application/vnd.jupyter.widget-view+json": {
       "model_id": "d51edfe150224b1c827279b4e965e21b",
       "version_major": 2,
       "version_minor": 0
      },
      "text/plain": [
       "model-00002-of-00004.safetensors:   0%|          | 0.00/3.86G [00:00<?, ?B/s]"
      ]
     },
     "metadata": {},
     "output_type": "display_data"
    },
    {
     "data": {
      "application/vnd.jupyter.widget-view+json": {
       "model_id": "08d48682409e4ea89eaa518620fbe40c",
       "version_major": 2,
       "version_minor": 0
      },
      "text/plain": [
       "model-00003-of-00004.safetensors:   0%|          | 0.00/3.86G [00:00<?, ?B/s]"
      ]
     },
     "metadata": {},
     "output_type": "display_data"
    },
    {
     "data": {
      "application/vnd.jupyter.widget-view+json": {
       "model_id": "cc0df01bdb0840d2a71ebf2216d52a05",
       "version_major": 2,
       "version_minor": 0
      },
      "text/plain": [
       "model-00004-of-00004.safetensors:   0%|          | 0.00/3.56G [00:00<?, ?B/s]"
      ]
     },
     "metadata": {},
     "output_type": "display_data"
    },
    {
     "data": {
      "application/vnd.jupyter.widget-view+json": {
       "model_id": "b517fcc9b4024585ad628be85b855df3",
       "version_major": 2,
       "version_minor": 0
      },
      "text/plain": [
       "Loading checkpoint shards:   0%|          | 0/4 [00:00<?, ?it/s]"
      ]
     },
     "metadata": {},
     "output_type": "display_data"
    },
    {
     "data": {
      "application/vnd.jupyter.widget-view+json": {
       "model_id": "72f8897fd192456a8ac78a021cd6d576",
       "version_major": 2,
       "version_minor": 0
      },
      "text/plain": [
       "generation_config.json:   0%|          | 0.00/243 [00:00<?, ?B/s]"
      ]
     },
     "metadata": {},
     "output_type": "display_data"
    }
   ],
   "source": [
    "model_qwen, tokenizer_qwen = set_up_model(\"Qwen/Qwen2-7B-Instruct\")"
   ]
  },
  {
   "cell_type": "markdown",
   "metadata": {
    "id": "6_kXRnhSr9bi"
   },
   "source": [
    "### Mistral"
   ]
  },
  {
   "cell_type": "code",
   "execution_count": 9,
   "metadata": {
    "execution": {
     "iopub.execute_input": "2025-01-12T16:38:10.472957Z",
     "iopub.status.busy": "2025-01-12T16:38:10.472462Z",
     "iopub.status.idle": "2025-01-12T16:44:39.135726Z",
     "shell.execute_reply": "2025-01-12T16:44:39.135083Z",
     "shell.execute_reply.started": "2025-01-12T16:38:10.472929Z"
    },
    "id": "SiZOedCnsJi3",
    "trusted": true
   },
   "outputs": [
    {
     "data": {
      "application/vnd.jupyter.widget-view+json": {
       "model_id": "5797f7852ae3409093ef9ed440ec9d56",
       "version_major": 2,
       "version_minor": 0
      },
      "text/plain": [
       "tokenizer_config.json:   0%|          | 0.00/141k [00:00<?, ?B/s]"
      ]
     },
     "metadata": {},
     "output_type": "display_data"
    },
    {
     "data": {
      "application/vnd.jupyter.widget-view+json": {
       "model_id": "76241b2c86fb48a481f85e41545c65cf",
       "version_major": 2,
       "version_minor": 0
      },
      "text/plain": [
       "tokenizer.model:   0%|          | 0.00/587k [00:00<?, ?B/s]"
      ]
     },
     "metadata": {},
     "output_type": "display_data"
    },
    {
     "data": {
      "application/vnd.jupyter.widget-view+json": {
       "model_id": "22e3beaf49c1407d8efb775512964789",
       "version_major": 2,
       "version_minor": 0
      },
      "text/plain": [
       "tokenizer.json:   0%|          | 0.00/1.96M [00:00<?, ?B/s]"
      ]
     },
     "metadata": {},
     "output_type": "display_data"
    },
    {
     "data": {
      "application/vnd.jupyter.widget-view+json": {
       "model_id": "c6bf9080e5ea4d2a83ff7ebcd0f2450f",
       "version_major": 2,
       "version_minor": 0
      },
      "text/plain": [
       "special_tokens_map.json:   0%|          | 0.00/414 [00:00<?, ?B/s]"
      ]
     },
     "metadata": {},
     "output_type": "display_data"
    },
    {
     "data": {
      "application/vnd.jupyter.widget-view+json": {
       "model_id": "a02d6c859a684d2db0f82672c2978721",
       "version_major": 2,
       "version_minor": 0
      },
      "text/plain": [
       "config.json:   0%|          | 0.00/601 [00:00<?, ?B/s]"
      ]
     },
     "metadata": {},
     "output_type": "display_data"
    },
    {
     "data": {
      "application/vnd.jupyter.widget-view+json": {
       "model_id": "22ed030f69bc4ec7b173e03a2cea9d08",
       "version_major": 2,
       "version_minor": 0
      },
      "text/plain": [
       "model.safetensors.index.json:   0%|          | 0.00/23.9k [00:00<?, ?B/s]"
      ]
     },
     "metadata": {},
     "output_type": "display_data"
    },
    {
     "data": {
      "application/vnd.jupyter.widget-view+json": {
       "model_id": "cf8c326982dc4892b8cff10b15c2d6d2",
       "version_major": 2,
       "version_minor": 0
      },
      "text/plain": [
       "Downloading shards:   0%|          | 0/3 [00:00<?, ?it/s]"
      ]
     },
     "metadata": {},
     "output_type": "display_data"
    },
    {
     "data": {
      "application/vnd.jupyter.widget-view+json": {
       "model_id": "8fab9db0032b4594a060782b8125883b",
       "version_major": 2,
       "version_minor": 0
      },
      "text/plain": [
       "model-00001-of-00003.safetensors:   0%|          | 0.00/4.95G [00:00<?, ?B/s]"
      ]
     },
     "metadata": {},
     "output_type": "display_data"
    },
    {
     "data": {
      "application/vnd.jupyter.widget-view+json": {
       "model_id": "a3167721d4c24f8b939fa8c0d78db730",
       "version_major": 2,
       "version_minor": 0
      },
      "text/plain": [
       "model-00002-of-00003.safetensors:   0%|          | 0.00/5.00G [00:00<?, ?B/s]"
      ]
     },
     "metadata": {},
     "output_type": "display_data"
    },
    {
     "data": {
      "application/vnd.jupyter.widget-view+json": {
       "model_id": "1fe005ac4b9744adb19ce079340c5d1a",
       "version_major": 2,
       "version_minor": 0
      },
      "text/plain": [
       "model-00003-of-00003.safetensors:   0%|          | 0.00/4.55G [00:00<?, ?B/s]"
      ]
     },
     "metadata": {},
     "output_type": "display_data"
    },
    {
     "data": {
      "application/vnd.jupyter.widget-view+json": {
       "model_id": "aa536c9a1d6e4065b90ed5fce453ef9f",
       "version_major": 2,
       "version_minor": 0
      },
      "text/plain": [
       "Loading checkpoint shards:   0%|          | 0/3 [00:00<?, ?it/s]"
      ]
     },
     "metadata": {},
     "output_type": "display_data"
    },
    {
     "data": {
      "application/vnd.jupyter.widget-view+json": {
       "model_id": "f162a6f1ef2047fca77ff7121eed169f",
       "version_major": 2,
       "version_minor": 0
      },
      "text/plain": [
       "generation_config.json:   0%|          | 0.00/116 [00:00<?, ?B/s]"
      ]
     },
     "metadata": {},
     "output_type": "display_data"
    }
   ],
   "source": [
    "model_mistral, tokenizer_mistral = set_up_model(\"mistralai/Mistral-7B-Instruct-v0.3\")"
   ]
  },
  {
   "cell_type": "markdown",
   "metadata": {
    "id": "TzNNzb1VLJnd"
   },
   "source": [
    "# [Task 2 - 1.0 points] Prompt setup\n",
    "\n",
    "Prompting requires an input pre-processing phase where we convert each input example into a specific instruction prompt.\n"
   ]
  },
  {
   "cell_type": "markdown",
   "metadata": {
    "id": "9GaBtKXomY_m"
   },
   "source": [
    "## Prompt Template\n",
    "\n",
    "Use the following prompt template to process input texts."
   ]
  },
  {
   "cell_type": "code",
   "execution_count": 10,
   "metadata": {
    "execution": {
     "iopub.execute_input": "2025-01-12T17:24:30.128510Z",
     "iopub.status.busy": "2025-01-12T17:24:30.128242Z",
     "iopub.status.idle": "2025-01-12T17:24:30.133215Z",
     "shell.execute_reply": "2025-01-12T17:24:30.132100Z",
     "shell.execute_reply.started": "2025-01-12T17:24:30.128485Z"
    },
    "id": "7e8P-Kk8me6q",
    "trusted": true
   },
   "outputs": [],
   "source": [
    "prompt = [\n",
    "    {\n",
    "        'role': 'system',\n",
    "        'content': 'You are an annotator for sexism detection.'\n",
    "    },\n",
    "    {\n",
    "        'role': 'user',\n",
    "        'content': \"\"\"Your task is to classify input text as containing sexism or not. Respond only YES or NO.\n",
    "\n",
    "        TEXT:\n",
    "        {text}\n",
    "\n",
    "        ANSWER:\n",
    "        \"\"\"\n",
    "    }\n",
    "]"
   ]
  },
  {
   "cell_type": "markdown",
   "metadata": {
    "id": "VHeoEN7MLJnd"
   },
   "source": [
    "### Instructions\n",
    "\n",
    "In order to get Task 2 points, we require you to:\n",
    "\n",
    "* Write a ``prepare_prompts`` function as the one reported below."
   ]
  },
  {
   "cell_type": "code",
   "execution_count": 11,
   "metadata": {
    "execution": {
     "iopub.execute_input": "2025-01-12T17:24:30.135019Z",
     "iopub.status.busy": "2025-01-12T17:24:30.134489Z",
     "iopub.status.idle": "2025-01-12T17:24:30.146387Z",
     "shell.execute_reply": "2025-01-12T17:24:30.145594Z",
     "shell.execute_reply.started": "2025-01-12T17:24:30.134991Z"
    },
    "id": "5Sl6q27zfhpT",
    "trusted": true
   },
   "outputs": [],
   "source": [
    "def prepend_prompt(example, prompt):\n",
    "    return prompt.format(text=example)\n",
    "\n",
    "def prepare_prompts(texts, prompt_template, tokenizer):\n",
    "    \"\"\"\n",
    "    This function format input text samples into instructions prompts.\n",
    "\n",
    "    Inputs:\n",
    "      texts: input texts to classify via prompting\n",
    "      prompt_template: the prompt template provided in this assignment\n",
    "      tokenizer: the transformers Tokenizer object instance associated with the chosen model card\n",
    "\n",
    "    Outputs:\n",
    "      input texts to classify in the form of instruction prompts\n",
    "    \"\"\"\n",
    "    data = texts.map(lambda example: prepend_prompt(example, prompt_template))\n",
    "\n",
    "    encoded_prompt = tokenizer.batch_encode_plus([it for it in data[\"text\"]], return_tensors='pt', padding=True, truncation=True, padding_side='left')\n",
    "    return encoded_prompt"
   ]
  },
  {
   "cell_type": "markdown",
   "metadata": {
    "id": "BOCRgGf7mifk"
   },
   "source": [
    "### Notes\n",
    "\n",
    "1. You are free to modify the prompt format (**not its content**) as you like depending on your code implementation.\n",
    "\n",
    "2. Note that the provided prompt has placeholders. You need to format the string to replace placeholders. Huggingface might have dedicated APIs for this."
   ]
  },
  {
   "cell_type": "markdown",
   "metadata": {
    "id": "JJIXde3OsbYR"
   },
   "source": [
    "### Qwen"
   ]
  },
  {
   "cell_type": "code",
   "execution_count": 12,
   "metadata": {
    "execution": {
     "iopub.execute_input": "2025-01-12T17:24:30.147802Z",
     "iopub.status.busy": "2025-01-12T17:24:30.147519Z",
     "iopub.status.idle": "2025-01-12T17:24:30.223880Z",
     "shell.execute_reply": "2025-01-12T17:24:30.222896Z",
     "shell.execute_reply.started": "2025-01-12T17:24:30.147778Z"
    },
    "id": "y2XuJZzTserA",
    "trusted": true
   },
   "outputs": [],
   "source": [
    "prompt_qwen = tokenizer_qwen.apply_chat_template(prompt, tokenize=False, add_generation_prompt=True)\n",
    "\n",
    "enc_prompt_qwen = prepare_prompts(test_data, prompt_qwen, tokenizer_qwen)"
   ]
  },
  {
   "cell_type": "markdown",
   "metadata": {
    "id": "Fali5d4Zsc70"
   },
   "source": [
    "### Mistral"
   ]
  },
  {
   "cell_type": "code",
   "execution_count": 12,
   "metadata": {
    "execution": {
     "iopub.execute_input": "2025-01-12T16:44:39.156868Z",
     "iopub.status.busy": "2025-01-12T16:44:39.156640Z",
     "iopub.status.idle": "2025-01-12T16:44:39.240486Z",
     "shell.execute_reply": "2025-01-12T16:44:39.239858Z",
     "shell.execute_reply.started": "2025-01-12T16:44:39.156845Z"
    },
    "id": "RjVAiMbYsnFk",
    "trusted": true
   },
   "outputs": [],
   "source": [
    "prompt_mistral = tokenizer_mistral.apply_chat_template(prompt, tokenize=False, add_generation_prompt=True)\n",
    "\n",
    "enc_prompt_mistral = prepare_prompts(test_data, prompt_mistral, tokenizer_mistral)"
   ]
  },
  {
   "cell_type": "markdown",
   "metadata": {
    "id": "lgBhkBwuLJnd"
   },
   "source": [
    "# [Task 3 - 1.0 points] Inference\n",
    "\n",
    "We are now ready to define the inference loop where we prompt the model with each pre-processed sample."
   ]
  },
  {
   "cell_type": "markdown",
   "metadata": {
    "id": "7WsrQSvcLJnd"
   },
   "source": [
    "### Instructions\n",
    "\n",
    "In order to get Task 3 points, we require you to:\n",
    "\n",
    "* Write a ``generate_responses`` function as the one reported below.\n",
    "* Write a ``process_response`` function as the one reported below."
   ]
  },
  {
   "cell_type": "code",
   "execution_count": 13,
   "metadata": {
    "execution": {
     "iopub.execute_input": "2025-01-12T17:24:30.225607Z",
     "iopub.status.busy": "2025-01-12T17:24:30.225320Z",
     "iopub.status.idle": "2025-01-12T17:24:30.230593Z",
     "shell.execute_reply": "2025-01-12T17:24:30.229584Z",
     "shell.execute_reply.started": "2025-01-12T17:24:30.225582Z"
    },
    "id": "6cKI9_SQfhpT",
    "trusted": true
   },
   "outputs": [],
   "source": [
    "import re\n",
    "\n",
    "def extract_response(response, template):\n",
    "    match = [m for m in re.finditer(template, response)][-1]\n",
    "    parsed = response[match.end():].strip()\n",
    "    return parsed\n",
    "\n",
    "def convert_response(response):\n",
    "    return 1 if 'YES' in response else 0"
   ]
  },
  {
   "cell_type": "code",
   "execution_count": 14,
   "metadata": {
    "execution": {
     "iopub.execute_input": "2025-01-12T17:24:30.231858Z",
     "iopub.status.busy": "2025-01-12T17:24:30.231621Z",
     "iopub.status.idle": "2025-01-12T17:24:30.241937Z",
     "shell.execute_reply": "2025-01-12T17:24:30.241241Z",
     "shell.execute_reply.started": "2025-01-12T17:24:30.231829Z"
    },
    "id": "CwaD14LefhpT",
    "trusted": true
   },
   "outputs": [],
   "source": [
    "def generate_responses(model, prompt_examples, tokenizer, batch_size=8):\n",
    "    \"\"\"\n",
    "    This function implements the inference loop for a LLM model.\n",
    "    Given a set of examples, the model is tasked to generate a response.\n",
    "\n",
    "    Inputs:\n",
    "      model: LLM model instance for prompting\n",
    "      prompt_examples: pre-processed text samples\n",
    "\n",
    "    Outputs:\n",
    "      generated responses\n",
    "    \"\"\"\n",
    "\n",
    "    #define the generation config\n",
    "    generation_config = model.generation_config\n",
    "    generation_config.max_new_tokens = 10\n",
    "    generation_config.eos_token_id = tokenizer.eos_token_id\n",
    "    generation_config.pad_token_id = tokenizer.eos_token_id\n",
    "    generation_config.num_return_sequences = 1\n",
    "    generation_config.do_sample = False\n",
    "\n",
    "    raw_responses = []\n",
    "    with torch.inference_mode():\n",
    "        # Split the data into batches\n",
    "        input_ids = prompt_examples['input_ids']\n",
    "        attention_mask = prompt_examples['attention_mask']\n",
    "        num_examples = input_ids.size(0)\n",
    "\n",
    "        for start_idx in tqdm(range(0, num_examples, batch_size), desc=\"Generating batches\"):\n",
    "            end_idx = min(start_idx + batch_size, num_examples)\n",
    "\n",
    "            # Prepare the batch\n",
    "            batch_input_ids = input_ids[start_idx:end_idx].to(model.device)\n",
    "            batch_attention_mask = attention_mask[start_idx:end_idx].to(model.device)\n",
    "\n",
    "            # Generate responses for the current batch\n",
    "            response = model.generate(\n",
    "                input_ids=batch_input_ids,\n",
    "                attention_mask=batch_attention_mask,\n",
    "                generation_config=generation_config,\n",
    "                do_sample=False,\n",
    "                use_cache=True\n",
    "            )\n",
    "\n",
    "            # Decode and process responses\n",
    "            batch_raw_responses = tokenizer.batch_decode(response, skip_special_tokens=True)\n",
    "\n",
    "            raw_responses.extend(batch_raw_responses)\n",
    "    return raw_responses\n"
   ]
  },
  {
   "cell_type": "code",
   "execution_count": 15,
   "metadata": {
    "execution": {
     "iopub.execute_input": "2025-01-12T17:24:30.244697Z",
     "iopub.status.busy": "2025-01-12T17:24:30.244430Z",
     "iopub.status.idle": "2025-01-12T17:24:30.255210Z",
     "shell.execute_reply": "2025-01-12T17:24:30.254353Z",
     "shell.execute_reply.started": "2025-01-12T17:24:30.244671Z"
    },
    "id": "uiCoMrutyXTU",
    "trusted": true
   },
   "outputs": [],
   "source": [
    "def process_response(response, template):\n",
    "    \"\"\"\n",
    "    This function takes a textual response generated by the LLM\n",
    "    and processes it to map the response to a binary label.\n",
    "\n",
    "    Inputs:\n",
    "      response: generated response from LLM\n",
    "\n",
    "    Outputs:\n",
    "      parsed binary response: return 1 if YES and 0 if NO\n",
    "    \"\"\"\n",
    "    raw_responses = [extract_response(item, template) for item in response]\n",
    "    predictions = [convert_response(item) for item in raw_responses]\n",
    "    return predictions"
   ]
  },
  {
   "cell_type": "markdown",
   "metadata": {
    "id": "VKcQ0ZfO2Fya"
   },
   "source": [
    "### Notes\n",
    "\n",
    "1. According to our tests, it should take you ~10 mins to perform full inference on 300 samples."
   ]
  },
  {
   "cell_type": "markdown",
   "metadata": {
    "id": "WNnnWgvttoJE"
   },
   "source": [
    "### Qwen"
   ]
  },
  {
   "cell_type": "code",
   "execution_count": 16,
   "metadata": {
    "execution": {
     "iopub.execute_input": "2025-01-12T17:24:30.256437Z",
     "iopub.status.busy": "2025-01-12T17:24:30.256167Z",
     "iopub.status.idle": "2025-01-12T17:26:22.514659Z",
     "shell.execute_reply": "2025-01-12T17:26:22.513762Z",
     "shell.execute_reply.started": "2025-01-12T17:24:30.256414Z"
    },
    "id": "iEiRiF3ltuHo",
    "trusted": true
   },
   "outputs": [
    {
     "name": "stderr",
     "output_type": "stream",
     "text": [
      "Generating batches:   0%|          | 0/38 [00:00<?, ?it/s]/opt/conda/lib/python3.10/site-packages/transformers/generation/configuration_utils.py:590: UserWarning: `do_sample` is set to `False`. However, `temperature` is set to `0.7` -- this flag is only used in sample-based generation modes. You should set `do_sample=True` or unset `temperature`.\n",
      "  warnings.warn(\n",
      "/opt/conda/lib/python3.10/site-packages/transformers/generation/configuration_utils.py:595: UserWarning: `do_sample` is set to `False`. However, `top_p` is set to `0.8` -- this flag is only used in sample-based generation modes. You should set `do_sample=True` or unset `top_p`.\n",
      "  warnings.warn(\n",
      "/opt/conda/lib/python3.10/site-packages/transformers/generation/configuration_utils.py:612: UserWarning: `do_sample` is set to `False`. However, `top_k` is set to `20` -- this flag is only used in sample-based generation modes. You should set `do_sample=True` or unset `top_k`.\n",
      "  warnings.warn(\n",
      "Generating batches: 100%|██████████| 38/38 [01:52<00:00,  2.95s/it]\n"
     ]
    }
   ],
   "source": [
    "raw_resp_qwen = generate_responses(model_qwen, enc_prompt_qwen, tokenizer_qwen)"
   ]
  },
  {
   "cell_type": "code",
   "execution_count": 17,
   "metadata": {
    "execution": {
     "iopub.execute_input": "2025-01-12T17:26:22.516137Z",
     "iopub.status.busy": "2025-01-12T17:26:22.515838Z",
     "iopub.status.idle": "2025-01-12T17:26:22.521086Z",
     "shell.execute_reply": "2025-01-12T17:26:22.520240Z",
     "shell.execute_reply.started": "2025-01-12T17:26:22.516110Z"
    },
    "id": "cYVOerbWt4s7",
    "trusted": true
   },
   "outputs": [],
   "source": [
    "pred_qwen = process_response(raw_resp_qwen, '\\n        \\nassistant\\n')"
   ]
  },
  {
   "cell_type": "markdown",
   "metadata": {
    "id": "MZKWLqzZtpRC"
   },
   "source": [
    "### Mistral"
   ]
  },
  {
   "cell_type": "code",
   "execution_count": 16,
   "metadata": {
    "execution": {
     "iopub.execute_input": "2025-01-12T16:44:39.274013Z",
     "iopub.status.busy": "2025-01-12T16:44:39.273694Z",
     "iopub.status.idle": "2025-01-12T16:47:27.993605Z",
     "shell.execute_reply": "2025-01-12T16:47:27.992727Z",
     "shell.execute_reply.started": "2025-01-12T16:44:39.273979Z"
    },
    "id": "fU_zBLUqt2PH",
    "trusted": true
   },
   "outputs": [
    {
     "name": "stderr",
     "output_type": "stream",
     "text": [
      "Generating batches: 100%|██████████| 38/38 [02:48<00:00,  4.44s/it]\n"
     ]
    }
   ],
   "source": [
    "raw_resp_mistral = generate_responses(model_mistral, enc_prompt_mistral, tokenizer_mistral)"
   ]
  },
  {
   "cell_type": "code",
   "execution_count": 17,
   "metadata": {
    "execution": {
     "iopub.execute_input": "2025-01-12T16:47:27.995031Z",
     "iopub.status.busy": "2025-01-12T16:47:27.994756Z",
     "iopub.status.idle": "2025-01-12T16:47:27.999644Z",
     "shell.execute_reply": "2025-01-12T16:47:27.998836Z",
     "shell.execute_reply.started": "2025-01-12T16:47:27.995005Z"
    },
    "id": "MPrd6nMzuB6S",
    "trusted": true
   },
   "outputs": [],
   "source": [
    "pred_mistral = process_response(raw_resp_mistral, 'ANSWER:\\n')"
   ]
  },
  {
   "cell_type": "markdown",
   "metadata": {
    "id": "KyZ8WU09zz-a"
   },
   "source": [
    "# [Task 4 - 0.5 points] Metrics\n",
    "\n",
    "In order to evaluate selected LLMs, we need to compute performance metrics.\n",
    "\n",
    "In particular, we are interested in computing **accuracy** since the provided data is balanced with respect to classification classes.\n",
    "\n",
    "Moreover, we want to compute the ratio of failed responses generated by models.\n",
    "\n",
    "That is, how frequent the LLM fails to follow instructions and provides incorrect responses that do not address the classification task.\n",
    "\n",
    "We denote this metric as **fail-ratio**.\n",
    "\n",
    "In summary, we parse generated responses as follows:\n",
    "- 1 if the model says YES\n",
    "- 0 if the model says NO\n",
    "- 0 if the model does not answer in either way"
   ]
  },
  {
   "cell_type": "markdown",
   "metadata": {
    "id": "y6lu64o80iX4"
   },
   "source": [
    "### Instructions\n",
    "\n",
    "In order to get Task 4 points, we require you to:\n",
    "\n",
    "* Write a ``compute_metrics`` function as the one reported below.\n",
    "* Compute metrics for the two selected LLMs."
   ]
  },
  {
   "cell_type": "code",
   "execution_count": 18,
   "metadata": {
    "execution": {
     "iopub.execute_input": "2025-01-12T17:26:22.522612Z",
     "iopub.status.busy": "2025-01-12T17:26:22.522272Z",
     "iopub.status.idle": "2025-01-12T17:26:24.255029Z",
     "shell.execute_reply": "2025-01-12T17:26:24.254053Z",
     "shell.execute_reply.started": "2025-01-12T17:26:22.522575Z"
    },
    "id": "9Fmcw_9v0k9D",
    "outputId": "8de16a7a-398a-455e-bdf5-55aaa1689d3e",
    "trusted": true
   },
   "outputs": [
    {
     "data": {
      "application/vnd.jupyter.widget-view+json": {
       "model_id": "2eb9faa9d831473984b28430ffecd341",
       "version_major": 2,
       "version_minor": 0
      },
      "text/plain": [
       "Downloading builder script:   0%|          | 0.00/4.20k [00:00<?, ?B/s]"
      ]
     },
     "metadata": {},
     "output_type": "display_data"
    }
   ],
   "source": [
    "import evaluate\n",
    "\n",
    "accuracy_metric = evaluate.load(\"accuracy\")\n",
    "def compute_metrics(responses, y_true):\n",
    "    \"\"\"\n",
    "    This function takes predicted and ground-truth labels and compute metrics.\n",
    "    In particular, this function compute accuracy and fail-ratio metrics.\n",
    "    This function internally invokes process_response to compute metrics.\n",
    "\n",
    "    Inputs:\n",
    "      responses: generated LLM responses\n",
    "      y_true: ground-truth binary labels\n",
    "\n",
    "    Outputs:\n",
    "      dictionary containing desired metrics\n",
    "    \"\"\"\n",
    "    accuracy_result = accuracy_metric.compute(predictions=responses, references=y_true)\n",
    "    accuracy = accuracy_result['accuracy']\n",
    "\n",
    "    # Compute fail-ratio\n",
    "    fail_ratio = 1 - accuracy\n",
    "\n",
    "    # Return metrics\n",
    "    return {\n",
    "        \"accuracy\": accuracy,\n",
    "        \"fail_ratio\": fail_ratio\n",
    "    }"
   ]
  },
  {
   "cell_type": "markdown",
   "metadata": {
    "id": "UoMTsvYouMhm"
   },
   "source": [
    "### Qwen"
   ]
  },
  {
   "cell_type": "code",
   "execution_count": 19,
   "metadata": {
    "execution": {
     "iopub.execute_input": "2025-01-12T17:26:24.257021Z",
     "iopub.status.busy": "2025-01-12T17:26:24.256307Z",
     "iopub.status.idle": "2025-01-12T17:26:24.319590Z",
     "shell.execute_reply": "2025-01-12T17:26:24.318686Z",
     "shell.execute_reply.started": "2025-01-12T17:26:24.256978Z"
    },
    "id": "ORxZpVcauQG-",
    "trusted": true
   },
   "outputs": [
    {
     "name": "stdout",
     "output_type": "stream",
     "text": [
      "{'accuracy': 0.7333333333333333, 'fail_ratio': 0.2666666666666667}\n"
     ]
    }
   ],
   "source": [
    "results_qwen = compute_metrics(pred_qwen, test_data['label_sexist'])\n",
    "print(results_qwen)"
   ]
  },
  {
   "cell_type": "markdown",
   "metadata": {
    "id": "NQ-oB44muOPb"
   },
   "source": [
    "### Mistral"
   ]
  },
  {
   "cell_type": "code",
   "execution_count": 19,
   "metadata": {
    "execution": {
     "iopub.execute_input": "2025-01-12T16:47:28.805835Z",
     "iopub.status.busy": "2025-01-12T16:47:28.805038Z",
     "iopub.status.idle": "2025-01-12T16:47:28.856091Z",
     "shell.execute_reply": "2025-01-12T16:47:28.855359Z",
     "shell.execute_reply.started": "2025-01-12T16:47:28.805806Z"
    },
    "id": "wRaidjoAuWdH",
    "trusted": true
   },
   "outputs": [
    {
     "name": "stdout",
     "output_type": "stream",
     "text": [
      "{'accuracy': 0.59, 'fail_ratio': 0.41000000000000003}\n"
     ]
    }
   ],
   "source": [
    "results_mistral = compute_metrics(pred_mistral, test_data['label_sexist'])\n",
    "print(results_mistral)"
   ]
  },
  {
   "cell_type": "markdown",
   "metadata": {
    "id": "nHyvV4QD2vZS"
   },
   "source": [
    "# [Task 5 - 1.0 points] Few-shot Inference\n",
    "\n",
    "So far, we have tested models in a zero-shot fashion: we provide the input text to classify and instruct the model to generate a response.\n",
    "\n",
    "We are now interested in performing few-shot prompting to see the impact of providing demonstration examples.\n",
    "\n",
    "To do so, we slightly change the prompt template as follows."
   ]
  },
  {
   "cell_type": "code",
   "execution_count": 20,
   "metadata": {
    "execution": {
     "iopub.execute_input": "2025-01-12T17:26:24.321533Z",
     "iopub.status.busy": "2025-01-12T17:26:24.320792Z",
     "iopub.status.idle": "2025-01-12T17:26:24.325886Z",
     "shell.execute_reply": "2025-01-12T17:26:24.324999Z",
     "shell.execute_reply.started": "2025-01-12T17:26:24.321491Z"
    },
    "id": "pEqsOHz63ReW",
    "outputId": "ab0775f4-86b4-4c1f-ec8c-d8db9e87fc97",
    "trusted": true
   },
   "outputs": [],
   "source": [
    "prompt = [\n",
    "    {\n",
    "        'role': 'system',\n",
    "        'content': 'You are an annotator for sexism detection.'\n",
    "    },\n",
    "    {\n",
    "        'role': 'user',\n",
    "        'content': \"\"\"Your task is to classify input text as containing sexism or not. Respond only YES or NO.\n",
    "\n",
    "        EXAMPLES:\n",
    "        {examples}\n",
    "\n",
    "        TEXT:\n",
    "        {text}\n",
    "\n",
    "        ANSWER:\n",
    "        \"\"\"\n",
    "    }\n",
    "]"
   ]
  },
  {
   "cell_type": "markdown",
   "metadata": {
    "id": "_SnaxuwN3ySF"
   },
   "source": [
    "The new prompt template reports some demonstration examples to instruct the model.\n",
    "\n",
    "Generally, we provide an equal number of demonstrations per class as shown in the example below."
   ]
  },
  {
   "cell_type": "markdown",
   "metadata": {
    "id": "OE0XnaVr3CZz"
   },
   "source": [
    "## Instructions\n",
    "\n",
    "In order to get Task 5 points, we require you to:\n",
    "\n",
    "- Load ``demonstrations.csv`` and encode it into a ``pandas.DataFrame`` object.\n",
    "- Define a ``build_few_shot_demonstrations`` function as the one reported below.\n",
    "- Perform few-shot inference as in Task 3.\n",
    "- Compute metrics as in Task 4."
   ]
  },
  {
   "cell_type": "code",
   "execution_count": 21,
   "metadata": {
    "execution": {
     "iopub.execute_input": "2025-01-12T17:26:24.327327Z",
     "iopub.status.busy": "2025-01-12T17:26:24.327012Z",
     "iopub.status.idle": "2025-01-12T17:26:24.340534Z",
     "shell.execute_reply": "2025-01-12T17:26:24.339765Z",
     "shell.execute_reply.started": "2025-01-12T17:26:24.327301Z"
    },
    "id": "0bD36nNdfhpW",
    "trusted": true
   },
   "outputs": [],
   "source": [
    "import random\n",
    "\n",
    "random_seed = 41\n",
    "def set_random_seed(seed=42):\n",
    "    \"\"\"\n",
    "    Fixes the random seed for reproducibility.\n",
    "    \"\"\"\n",
    "    random.seed(seed)\n",
    "    np.random.seed(seed)\n",
    "    torch.manual_seed(seed)\n",
    "    if torch.cuda.is_available():\n",
    "        torch.cuda.manual_seed_all(seed)\n",
    "\n",
    "set_random_seed(random_seed)"
   ]
  },
  {
   "cell_type": "code",
   "execution_count": 22,
   "metadata": {
    "execution": {
     "iopub.execute_input": "2025-01-12T17:26:24.342340Z",
     "iopub.status.busy": "2025-01-12T17:26:24.341912Z",
     "iopub.status.idle": "2025-01-12T17:26:24.349346Z",
     "shell.execute_reply": "2025-01-12T17:26:24.348579Z",
     "shell.execute_reply.started": "2025-01-12T17:26:24.342302Z"
    },
    "id": "6oyxypUG3ltH",
    "trusted": true
   },
   "outputs": [],
   "source": [
    "def build_few_shot_demonstrations(demonstrations, num_per_class=2):\n",
    "    \"\"\"\n",
    "    Inputs:\n",
    "      demonstrations: pandas.DataFrame object containing 'text' and 'label_sexist' columns.\n",
    "      num_per_class: number of examples to sample per class.\n",
    "\n",
    "    Outputs:\n",
    "      A list of textual demonstrations formatted in a fixed YES, NO, YES, NO order.\n",
    "    \"\"\"\n",
    "    # Sample examples by class\n",
    "    sexist_examples = demonstrations[demonstrations['label_sexist'] == 1].sample(num_per_class)\n",
    "    not_sexist_examples = demonstrations[demonstrations['label_sexist'] == 0].sample(num_per_class)#, random_state=random_seed)\n",
    "\n",
    "    sexist_examples = sexist_examples.reset_index(drop=True)\n",
    "    not_sexist_examples = not_sexist_examples.reset_index(drop=True)\n",
    "\n",
    "    # Alternate between sexist and not-sexist examples\n",
    "    examples = []\n",
    "    for i in range(num_per_class):\n",
    "        examples.append(f\"TEXT: {not_sexist_examples.loc[i, 'text']}\\nANSWER: NO\")\n",
    "        examples.append(f\"TEXT: {sexist_examples.loc[i, 'text']}\\nANSWER: YES\")\n",
    "\n",
    "    return examples\n",
    "\n",
    "def concatenate_fewshot_into_string(fewshot_list):\n",
    "    \"\"\"\n",
    "    Concatenates a list of few-shot demonstrations into a single string.\n",
    "    \"\"\"\n",
    "    return \"\\n\".join(fewshot_list)\n"
   ]
  },
  {
   "cell_type": "code",
   "execution_count": 23,
   "metadata": {
    "execution": {
     "iopub.execute_input": "2025-01-12T17:26:24.351127Z",
     "iopub.status.busy": "2025-01-12T17:26:24.350461Z",
     "iopub.status.idle": "2025-01-12T17:26:24.361275Z",
     "shell.execute_reply": "2025-01-12T17:26:24.360562Z",
     "shell.execute_reply.started": "2025-01-12T17:26:24.351100Z"
    },
    "id": "LKLYnlR3fhpW",
    "trusted": true
   },
   "outputs": [],
   "source": [
    "def generate_responses_fewshot(model, texts, examples, prompt, tokenizer, examples_nr = 2, batch_size=8):\n",
    "    \"\"\"\n",
    "    Implements batchwise inference for few-shot prompting.\n",
    "\n",
    "    Inputs:\n",
    "      model: LLM model instance for prompting.\n",
    "      texts: input texts to classify.\n",
    "      examples: few-shot examples string.\n",
    "      batch_size: number of texts to process per batch.\n",
    "\n",
    "    Outputs:\n",
    "      Generated responses.\n",
    "    \"\"\"\n",
    "    #define the generation config\n",
    "    generation_config = model.generation_config\n",
    "    generation_config.max_new_tokens = 10\n",
    "    generation_config.eos_token_id = tokenizer.eos_token_id\n",
    "    generation_config.pad_token_id = tokenizer.eos_token_id\n",
    "    generation_config.num_return_sequences = 1\n",
    "    generation_config.top_p = None \n",
    "    generation_config.do_sample = False\n",
    "\n",
    "    raw_responses = []\n",
    "    with torch.inference_mode():\n",
    "        num_examples = len(texts)\n",
    "\n",
    "        for start_idx in tqdm(range(0, num_examples, batch_size), desc=\"Generating batches\"):\n",
    "            end_idx = min(start_idx + batch_size, num_examples)\n",
    "            batch_texts = texts[start_idx:end_idx]\n",
    "            examples = build_few_shot_demonstrations(demo_data, examples_nr)\n",
    "\n",
    "    \n",
    "            # Convert the list of examples into a single string\n",
    "            examples = concatenate_fewshot_into_string(examples)\n",
    "            batch_prompts = [\n",
    "                prompt.format(examples=examples, text=text) for text in batch_texts\n",
    "            ]\n",
    "            encoded_prompt = tokenizer.batch_encode_plus(\n",
    "                batch_prompts,\n",
    "                return_tensors=\"pt\",\n",
    "                padding=True,\n",
    "                truncation=True,\n",
    "                padding_side=\"left\"\n",
    "            )\n",
    "            response = model.generate(\n",
    "                input_ids=encoded_prompt[\"input_ids\"].to(model.device),\n",
    "                attention_mask=encoded_prompt[\"attention_mask\"].to(model.device),\n",
    "                generation_config=generation_config,\n",
    "                do_sample=False,\n",
    "                use_cache=True\n",
    "            )\n",
    "            batch_raw_responses = tokenizer.batch_decode(response, skip_special_tokens=True)\n",
    "            raw_responses.extend(batch_raw_responses)\n",
    "\n",
    "    return raw_responses"
   ]
  },
  {
   "cell_type": "code",
   "execution_count": 24,
   "metadata": {
    "execution": {
     "iopub.execute_input": "2025-01-12T17:26:24.362568Z",
     "iopub.status.busy": "2025-01-12T17:26:24.362283Z",
     "iopub.status.idle": "2025-01-12T17:26:24.380088Z",
     "shell.execute_reply": "2025-01-12T17:26:24.379250Z",
     "shell.execute_reply.started": "2025-01-12T17:26:24.362543Z"
    },
    "trusted": true
   },
   "outputs": [],
   "source": [
    "# Convert the list of examples into a single string\n",
    "examples = build_few_shot_demonstrations(demo_data,2)\n",
    "text_example = concatenate_fewshot_into_string(examples)\n",
    "\n",
    "texts_to_classify = test_data['text'].tolist()"
   ]
  },
  {
   "cell_type": "markdown",
   "metadata": {
    "id": "a0lMZ0qku4x2"
   },
   "source": [
    "### Qwen\n",
    "\n",
    "We will use 3 examples per classification label."
   ]
  },
  {
   "cell_type": "code",
   "execution_count": 25,
   "metadata": {
    "execution": {
     "iopub.execute_input": "2025-01-12T17:26:24.381460Z",
     "iopub.status.busy": "2025-01-12T17:26:24.381102Z",
     "iopub.status.idle": "2025-01-12T17:26:24.389206Z",
     "shell.execute_reply": "2025-01-12T17:26:24.388516Z",
     "shell.execute_reply.started": "2025-01-12T17:26:24.381432Z"
    },
    "id": "sMNwpqR1vB_V",
    "trusted": true
   },
   "outputs": [],
   "source": [
    "prompt_qwen = tokenizer_qwen.apply_chat_template(prompt, tokenize=False, add_generation_prompt=True)"
   ]
  },
  {
   "cell_type": "code",
   "execution_count": 26,
   "metadata": {
    "execution": {
     "iopub.execute_input": "2025-01-12T17:26:24.390442Z",
     "iopub.status.busy": "2025-01-12T17:26:24.390152Z",
     "iopub.status.idle": "2025-01-12T17:30:42.242098Z",
     "shell.execute_reply": "2025-01-12T17:30:42.241266Z",
     "shell.execute_reply.started": "2025-01-12T17:26:24.390418Z"
    },
    "id": "26Aqj0l_v-IM",
    "trusted": true
   },
   "outputs": [
    {
     "name": "stderr",
     "output_type": "stream",
     "text": [
      "Generating batches:   0%|          | 0/38 [00:00<?, ?it/s]/opt/conda/lib/python3.10/site-packages/transformers/generation/configuration_utils.py:590: UserWarning: `do_sample` is set to `False`. However, `temperature` is set to `0.7` -- this flag is only used in sample-based generation modes. You should set `do_sample=True` or unset `temperature`.\n",
      "  warnings.warn(\n",
      "/opt/conda/lib/python3.10/site-packages/transformers/generation/configuration_utils.py:612: UserWarning: `do_sample` is set to `False`. However, `top_k` is set to `20` -- this flag is only used in sample-based generation modes. You should set `do_sample=True` or unset `top_k`.\n",
      "  warnings.warn(\n",
      "Generating batches: 100%|██████████| 38/38 [04:17<00:00,  6.79s/it]\n"
     ]
    }
   ],
   "source": [
    "fewshot_example = 3\n",
    "\n",
    "# Few-shot inference\n",
    "raw_resp_fewshot_qwen = generate_responses_fewshot(model_qwen, texts_to_classify, text_example, prompt_qwen, tokenizer_qwen, examples_nr = fewshot_example)"
   ]
  },
  {
   "cell_type": "markdown",
   "metadata": {
    "id": "j63bDSf_u5CW"
   },
   "source": [
    "### Mistral"
   ]
  },
  {
   "cell_type": "code",
   "execution_count": 27,
   "metadata": {
    "execution": {
     "iopub.execute_input": "2025-01-12T16:59:08.930070Z",
     "iopub.status.busy": "2025-01-12T16:59:08.929202Z",
     "iopub.status.idle": "2025-01-12T16:59:08.935199Z",
     "shell.execute_reply": "2025-01-12T16:59:08.934184Z",
     "shell.execute_reply.started": "2025-01-12T16:59:08.930035Z"
    },
    "id": "0SwpLSmUvec3",
    "trusted": true
   },
   "outputs": [],
   "source": [
    "fewshot_example = 3\n",
    "\n",
    "prompt_mistral= tokenizer_mistral.apply_chat_template(prompt, tokenize=False, add_generation_prompt=True)"
   ]
  },
  {
   "cell_type": "code",
   "execution_count": 28,
   "metadata": {
    "execution": {
     "iopub.execute_input": "2025-01-12T16:59:09.336936Z",
     "iopub.status.busy": "2025-01-12T16:59:09.336599Z",
     "iopub.status.idle": "2025-01-12T17:06:09.643759Z",
     "shell.execute_reply": "2025-01-12T17:06:09.642825Z",
     "shell.execute_reply.started": "2025-01-12T16:59:09.336906Z"
    },
    "id": "7nsBK6ttwK6P",
    "trusted": true
   },
   "outputs": [
    {
     "name": "stderr",
     "output_type": "stream",
     "text": [
      "Generating batches: 100%|██████████| 38/38 [07:00<00:00, 11.06s/it]\n"
     ]
    }
   ],
   "source": [
    "# Few-shot inference\n",
    "raw_resp_fewshot_mistral = generate_responses_fewshot(model_mistral, texts_to_classify, text_example, prompt_mistral, tokenizer_mistral, examples_nr = fewshot_example)"
   ]
  },
  {
   "cell_type": "markdown",
   "metadata": {
    "id": "dGpZWQb45XXK"
   },
   "source": [
    "## Notes\n",
    "\n",
    "1. You are free to pick any value for ``num_per_class``.\n",
    "\n",
    "2. According to our tests, few-shot prompting increases inference time by some minutes (we experimented with ``num_per_class`` $\\in [2, 4]$)."
   ]
  },
  {
   "cell_type": "markdown",
   "metadata": {
    "id": "XHuT1a1GLJnd"
   },
   "source": [
    "# [Task 6 - 1.0 points] Error Analysis\n",
    "\n",
    "We are now interested in evaluating model responses and comparing their performance.\n",
    "\n",
    "This analysis helps us in understanding\n",
    "\n",
    "- Classification task performance gap: are the models good at this task?\n",
    "- Generation quality: which kind of responses do models generate?  ?????\n",
    "- Errors: which kind of mistakes do models do?"
   ]
  },
  {
   "cell_type": "markdown",
   "metadata": {
    "id": "7kjEAHD4LJne"
   },
   "source": [
    "### Instructions\n",
    "\n",
    "In order to get Task 6 points, we require you to:\n",
    "\n",
    "* Compare classification performance of selected LLMs in a Table.\n",
    "* Compute confusion matrices for selected LLMs.\n",
    "* Briefly summarize your observations on generated responses. - differente confusion matrix few shot"
   ]
  },
  {
   "cell_type": "markdown",
   "metadata": {
    "execution": {
     "iopub.execute_input": "2025-01-12T17:15:06.983447Z",
     "iopub.status.busy": "2025-01-12T17:15:06.983099Z",
     "iopub.status.idle": "2025-01-12T17:15:06.987399Z",
     "shell.execute_reply": "2025-01-12T17:15:06.986445Z",
     "shell.execute_reply.started": "2025-01-12T17:15:06.983420Z"
    }
   },
   "source": [
    "### Useful functions"
   ]
  },
  {
   "cell_type": "code",
   "execution_count": 27,
   "metadata": {
    "execution": {
     "iopub.execute_input": "2025-01-12T17:30:42.244108Z",
     "iopub.status.busy": "2025-01-12T17:30:42.243451Z",
     "iopub.status.idle": "2025-01-12T17:30:42.251053Z",
     "shell.execute_reply": "2025-01-12T17:30:42.250031Z",
     "shell.execute_reply.started": "2025-01-12T17:30:42.244057Z"
    },
    "trusted": true
   },
   "outputs": [],
   "source": [
    "from sklearn.metrics import confusion_matrix, ConfusionMatrixDisplay\n",
    "import matplotlib.pyplot as plt\n",
    "# Process the raw responses into binary predictions\n",
    "def process_response(response, template):\n",
    "    raw_responses = [extract_response(item, template) for item in response]\n",
    "    predictions = [convert_response(item) for item in raw_responses]\n",
    "    return predictions\n",
    "\n",
    "# Compute metrics for evaluation\n",
    "def compute_metrics(responses, y_true):\n",
    "    accuracy_metric = evaluate.load(\"accuracy\")\n",
    "    accuracy_result = accuracy_metric.compute(predictions=responses, references=y_true)\n",
    "    accuracy = accuracy_result['accuracy']\n",
    "    fail_ratio = 1 - accuracy\n",
    "    return {\"accuracy\": accuracy, \"fail_ratio\": fail_ratio}\n",
    "\n",
    "\n",
    "# Compute the confusion matrix\n",
    "def plot_confusion_matrix(y_true, y_pred):\n",
    "    cm = confusion_matrix(y_true, y_pred)\n",
    "    disp = ConfusionMatrixDisplay(confusion_matrix=cm, display_labels=['Not Sexist', 'Sexist'])\n",
    "    disp.plot(cmap='Blues', values_format='d')\n",
    "    plt.title(\"Confusion Matrix\")\n",
    "    plt.show()"
   ]
  },
  {
   "cell_type": "code",
   "execution_count": 28,
   "metadata": {
    "execution": {
     "iopub.execute_input": "2025-01-12T17:30:42.252372Z",
     "iopub.status.busy": "2025-01-12T17:30:42.252115Z",
     "iopub.status.idle": "2025-01-12T17:30:42.262142Z",
     "shell.execute_reply": "2025-01-12T17:30:42.261221Z",
     "shell.execute_reply.started": "2025-01-12T17:30:42.252348Z"
    },
    "trusted": true
   },
   "outputs": [],
   "source": [
    "def compute_and_plot_metrics(pred_fewshot_raw, y_true_data, pattern):\n",
    "    # Convert responses to binary predictions\n",
    "    pred_fewshot= process_response(pred_fewshot_raw, pattern)\n",
    "    \n",
    "    # Compute metrics\n",
    "    results_fewshot= compute_metrics(pred_fewshot, y_true_data)\n",
    "    print(f\"The resulted accuracy of the model is: {results_fewshot['accuracy'] * 100:.2f}%\")\n",
    "    \n",
    "    # y_true is the ground truth and y_pred are the binary predictions\n",
    "    y_true= y_true_data.values\n",
    "    y_pred= pred_fewshot\n",
    "    \n",
    "    # Plot the confusion matrix\n",
    "    plot_confusion_matrix(y_true, y_pred)"
   ]
  },
  {
   "cell_type": "markdown",
   "metadata": {},
   "source": [
    "### Qwen\n",
    "\n",
    "In this section we will analyze the results for the qwen model. The first confusion matrix and accuracy corresponds to the zero-shot Qwen experiment, while the second corresponds to the few-shot Qwen experiment."
   ]
  },
  {
   "cell_type": "code",
   "execution_count": 29,
   "metadata": {
    "execution": {
     "iopub.execute_input": "2025-01-12T17:30:42.263652Z",
     "iopub.status.busy": "2025-01-12T17:30:42.263168Z",
     "iopub.status.idle": "2025-01-12T17:30:43.714385Z",
     "shell.execute_reply": "2025-01-12T17:30:43.713366Z",
     "shell.execute_reply.started": "2025-01-12T17:30:42.263624Z"
    },
    "trusted": true
   },
   "outputs": [
    {
     "name": "stdout",
     "output_type": "stream",
     "text": [
      "Basic model performance and results\n",
      "The resulted accuracy of the model is: 73.33%\n"
     ]
    },
    {
     "data": {
      "image/png": "[encoded data removed]",
      "text/plain": [
       "<Figure size 640x480 with 2 Axes>"
      ]
     },
     "metadata": {},
     "output_type": "display_data"
    },
    {
     "name": "stdout",
     "output_type": "stream",
     "text": [
      "\n",
      "\n",
      "Few shot model performance and results (3 examples per category)\n",
      "The resulted accuracy of the model is: 72.00%\n"
     ]
    },
    {
     "data": {
      "image/png": "[encoded data removed]",
      "text/plain": [
       "<Figure size 640x480 with 2 Axes>"
      ]
     },
     "metadata": {},
     "output_type": "display_data"
    }
   ],
   "source": [
    "print(\"Basic model performance and results\")\n",
    "\n",
    "compute_and_plot_metrics(raw_resp_qwen, test_data['label_sexist'], pattern = '\\n        \\nassistant\\n')\n",
    "\n",
    "print(\"\\n\\nFew shot model performance and results (3 examples per category)\")\n",
    "compute_and_plot_metrics(raw_resp_fewshot_qwen, test_data['label_sexist'], pattern = '\\n        \\nassistant\\n')"
   ]
  },
  {
   "cell_type": "markdown",
   "metadata": {
    "execution": {
     "iopub.execute_input": "2025-01-12T09:33:52.103097Z",
     "iopub.status.busy": "2025-01-12T09:33:52.102256Z",
     "iopub.status.idle": "2025-01-12T09:33:52.863218Z",
     "shell.execute_reply": "2025-01-12T09:33:52.862297Z",
     "shell.execute_reply.started": "2025-01-12T09:33:52.103064Z"
    }
   },
   "source": [
    "### Mistral\n",
    "\n",
    "In this section we will analyze the results for the Mistral model. The first confusion matrix and accuracy corresponds to the zero-shot Mistral experiment, while the second corresponds to the few-shot Mistral experiment."
   ]
  },
  {
   "cell_type": "code",
   "execution_count": 30,
   "metadata": {
    "execution": {
     "iopub.execute_input": "2025-01-12T17:06:09.653340Z",
     "iopub.status.busy": "2025-01-12T17:06:09.652978Z",
     "iopub.status.idle": "2025-01-12T17:06:10.644582Z",
     "shell.execute_reply": "2025-01-12T17:06:10.643697Z",
     "shell.execute_reply.started": "2025-01-12T17:06:09.653303Z"
    },
    "trusted": true
   },
   "outputs": [
    {
     "name": "stdout",
     "output_type": "stream",
     "text": [
      "Basic model performance and results\n",
      "The resulted accuracy of the model is: 59.00%\n"
     ]
    },
    {
     "data": {
      "image/png": "[encoded data removed]",
      "text/plain": [
       "<Figure size 640x480 with 2 Axes>"
      ]
     },
     "metadata": {},
     "output_type": "display_data"
    },
    {
     "name": "stdout",
     "output_type": "stream",
     "text": [
      "\n",
      "\n",
      "Few shot model performance and results (3 examples per category)\n",
      "The resulted accuracy of the model is: 73.00%\n"
     ]
    },
    {
     "data": {
      "image/png": "[encoded data removed]",
      "text/plain": [
       "<Figure size 640x480 with 2 Axes>"
      ]
     },
     "metadata": {},
     "output_type": "display_data"
    }
   ],
   "source": [
    "print(\"Basic model performance and results\")\n",
    "\n",
    "compute_and_plot_metrics(raw_resp_mistral, test_data['label_sexist'], pattern = 'ANSWER:\\n')\n",
    "\n",
    "print(\"\\n\\nFew shot model performance and results (3 examples per category)\")\n",
    "compute_and_plot_metrics(raw_resp_fewshot_mistral, test_data['label_sexist'], pattern = 'ANSWER:\\n')"
   ]
  },
  {
   "cell_type": "markdown",
   "metadata": {
    "execution": {
     "iopub.execute_input": "2025-01-12T10:50:51.196855Z",
     "iopub.status.busy": "2025-01-12T10:50:51.196118Z",
     "iopub.status.idle": "2025-01-12T10:50:51.202672Z",
     "shell.execute_reply": "2025-01-12T10:50:51.201568Z",
     "shell.execute_reply.started": "2025-01-12T10:50:51.196818Z"
    }
   },
   "source": [
    "### Result Analysis\n",
    "\n",
    "We will start by aggregating the model performances of the two models in a table.\n",
    "\n",
    "| Model         | Standard Model Accuracy | Few-Shot Model Accuracy |\n",
    "|---------------|--------------------------|--------------------------|\n",
    "| **Mistral 8 B**| 59.00%                  | 73.00%                  |\n",
    "| **Qwen 8 B**   | 73.30%                  | 72.00%                  |\n",
    "\n",
    "Analysis of the Results:\n",
    "\n",
    "**Mistral 8B**:\n",
    "\n",
    "We can see significant performance improvement from 59.00% to 73.00% with few-shot prompting. This perfectly shows how providing some examples to the model and can result in performance increases of up to 14%.\n",
    "If we look at the confusion matrix afferent for Mistral, we can gain several insights of why this is happening.\n",
    "The base model (first confusion matrix) tells us that the model has a strong bias towards saying that a text is not sexist(120 false positive prediction for the 'Not sexist' label). Adding few-shot prompting improves the model's performance. It significantly reduces the before-mentioned bias(the FP decrease with almost 50% (120 -> 59)) and thus resulting in a better classification performance.\n",
    "\n",
    "Comparing the two matrices with a bird eye view, we can see that the few-shoted version of the model has a much more balanced confusion matrix. While there is a significant increase in the FN section of the model (3->22), we find this result acceptable as the model is now able to determine if a text is not sexist with a much better precision. Before, the model would classify have a TP to FP classification rate of 1:4, while the second version(few-shot) has a much better rate of 1.78 : 1.\n",
    "\n",
    "**Qwen 8B**:\n",
    "\n",
    "The base model starts from an accuracy of 73.3%, showing comparable results with the few-shot iteration of the Mistral 8b model. If we look at the two confusion matrices, we can see that the base model does in fact perform better than the few-shot version of the model. When adding few-shot examples, the model has a slight decrease in performance (around 1-2 percent) and has a slight increase in the missclarification error(the number of FP and FN increase for the few-shoted version).\n"
   ]
  },
  {
   "cell_type": "markdown",
   "metadata": {},
   "source": [
    "### Other experiments\n",
    "\n",
    "We experimented with modifying the few-shot inference prompt. We found success with the following prompt:"
   ]
  },
  {
   "cell_type": "code",
   "execution_count": 1,
   "metadata": {
    "execution": {
     "iopub.execute_input": "2025-01-12T15:33:52.631576Z",
     "iopub.status.busy": "2025-01-12T15:33:52.631209Z",
     "iopub.status.idle": "2025-01-12T15:33:52.660781Z",
     "shell.execute_reply": "2025-01-12T15:33:52.660084Z",
     "shell.execute_reply.started": "2025-01-12T15:33:52.631539Z"
    },
    "trusted": true
   },
   "outputs": [],
   "source": [
    "prompt = [\n",
    "    {\n",
    "        'role': 'system',\n",
    "        'content': 'You are an annotator for sexism detection.'\n",
    "    },\n",
    "    {\n",
    "        'role': 'user',\n",
    "        'content': \"\"\"Your task is to classify the given input text as containing sexism or not. Follow the instructions carefully:\n",
    "\n",
    "        \n",
    "        Review the examples provided to understand the distinctions between sexist and non-sexist content.\n",
    "        Analyze the TEXT based on your knowledge and insights from the examples.\n",
    "        Decide if the test is sexist.\n",
    "        Check your solution to be logically sound. Ask the question: \"Is this text really sexist, or it just seems to be?\".\n",
    "        Make your FINAL decision. Answer 'YES' if the text is sexist, 'NO' otherwise\n",
    "\n",
    "        IMPORTANT:\n",
    "        \n",
    "        Classify the TEXT as 'YES' if it contains sexism.\n",
    "        Classify the TEXT as 'NO' if it does not contain sexism.\n",
    "        Respond ONLY with 'YES' or 'NO.'\n",
    "\n",
    "\n",
    "        EXAMPLES:\n",
    "        {examples}\n",
    "\n",
    "        TEXT:\n",
    "        {text}\n",
    "\n",
    "        ANSWER:\n",
    "        \"\"\"\n",
    "    }\n",
    "]"
   ]
  },
  {
   "cell_type": "markdown",
   "metadata": {},
   "source": [
    "It is important to mention that we also tested the LLama 3.1 Instruct model, and it showed similar behavior with the Qwen model we are using now, if the prompt is not enhanced. With the prompt provided above, and using 2-3 examples per label, we managed to have improvements of up to 7% in accuracy, up to 78 percent accuracy.\n",
    "\n",
    "Furthermore, we experimented with the order in which the examples should be showed. Initially, we tried giving the examples grouped by label(\"YES\", \"YES\", \"NO\", \"NO\"). We observed, that even with the enhanced version of the prompt, the model would present biases towards a certain category. This problem was solved by our current approach, in which we alternate the order in which we show the examples to the model. Specifically, we alternate one \"YES\" example with one \"NO\" example. This approach showed better results.\n",
    "\n",
    "Additionally, we experimented with many other few_shot values(number of examples we provided per category), but we observed that the more examples we provided, the accuracy would either slightly increase or decrease dramatically. We settled on a number of few-shots of 3, as in our experience it provides a reasonable compromise between computational requirements and performace."
   ]
  },
  {
   "cell_type": "markdown",
   "metadata": {
    "id": "8QWlVXJgLJne"
   },
   "source": [
    "# [Task 7 - 1.0 points] Report\n",
    "\n",
    "Wrap up your experiment in a short report (up to 2 pages)."
   ]
  },
  {
   "cell_type": "markdown",
   "metadata": {
    "id": "_fsdV99TLJne"
   },
   "source": [
    "### Instructions\n",
    "\n",
    "* Use the NLP course report template.\n",
    "* Summarize each task in the report following the provided template."
   ]
  },
  {
   "cell_type": "markdown",
   "metadata": {
    "id": "z-hUXYaLLJne"
   },
   "source": [
    "### Recommendations\n",
    "\n",
    "The report is not a copy-paste of graphs, tables, and command outputs.\n",
    "\n",
    "* Summarize classification performance in Table format.\n",
    "* **Do not** report command outputs or screenshots.\n",
    "* Report learning curves in Figure format.\n",
    "* The error analysis section should summarize your findings."
   ]
  },
  {
   "cell_type": "markdown",
   "metadata": {
    "id": "fURV8zfPLJne"
   },
   "source": [
    "# Submission\n",
    "\n",
    "* **Submit** your report in PDF format.\n",
    "* **Submit** your python notebook.\n",
    "* Make sure your notebook is **well organized**, with no temporary code, commented sections, tests, etc..."
   ]
  },
  {
   "cell_type": "markdown",
   "metadata": {
    "id": "zn1tUeYzLJne"
   },
   "source": [
    "# FAQ\n",
    "\n",
    "Please check this frequently asked questions before contacting us."
   ]
  },
  {
   "cell_type": "markdown",
   "metadata": {
    "id": "FYAOVGvKhtTQ"
   },
   "source": [
    "### Model cards\n",
    "\n",
    "You can pick any open-source model card you like.\n",
    "\n",
    "We recommend starting from those reported in this assignment."
   ]
  },
  {
   "cell_type": "markdown",
   "metadata": {
    "id": "PWG72N-LLJne"
   },
   "source": [
    "### Implementation\n",
    "\n",
    "Everything can be done via ``transformers`` APIs.\n",
    "\n",
    "However, you are free to test frameworks, such as [LangChain](https://www.langchain.com/), [LlamaIndex](https://www.llamaindex.ai/) [LitParrot](https://github.com/awesome-software/lit-parrot), provided that you correctly address task instructions."
   ]
  },
  {
   "cell_type": "markdown",
   "metadata": {
    "id": "9cplnq3dLJne"
   },
   "source": [
    "### Bonus Points\n",
    "\n",
    "0.5 bonus points are arbitrarily assigned based on significant contributions such as:\n",
    "\n",
    "- Outstanding error analysis\n",
    "- Masterclass code organization\n",
    "- Suitable extensions\n",
    "- Evaluate A1 dataset and perform comparison\n",
    "\n",
    "Note that bonus points are only assigned if all task points are attributed (i.e., 6/6)."
   ]
  },
  {
   "cell_type": "markdown",
   "metadata": {
    "id": "coy_pJ40LJne"
   },
   "source": [
    "### Prompt Template\n",
    "\n",
    "Do not change the provided prompt template.\n",
    "\n",
    "You are only allowed to change it in case of a possible extension."
   ]
  },
  {
   "cell_type": "markdown",
   "metadata": {
    "id": "aSiH0Xqj79wc"
   },
   "source": [
    "### Optimizations\n",
    "\n",
    "Any kind of code optimization (e.g., speedup model inference or reduce computational cost) is more than welcome!"
   ]
  },
  {
   "cell_type": "markdown",
   "metadata": {
    "id": "Jpr-LSK7LJnh"
   },
   "source": [
    "# The End"
   ]
  }
 ],
 "metadata": {
  "celltoolbar": "Slideshow",
  "colab": {
   "provenance": []
  },
  "kaggle": {
   "accelerator": "gpu",
   "dataSources": [
    {
     "datasetId": 6291526,
     "sourceId": 10184391,
     "sourceType": "datasetVersion"
    },
    {
     "datasetId": 6395321,
     "sourceId": 10328631,
     "sourceType": "datasetVersion"
    }
   ],
   "dockerImageVersionId": 30805,
   "isGpuEnabled": true,
   "isInternetEnabled": true,
   "language": "python",
   "sourceType": "notebook"
  },
  "kernelspec": {
   "display_name": "Python 3",
   "language": "python",
   "name": "python3"
  },
  "language_info": {
   "codemirror_mode": {
    "name": "ipython",
    "version": 3
   },
   "file_extension": ".py",
   "mimetype": "text/x-python",
   "name": "python",
   "nbconvert_exporter": "python",
   "pygments_lexer": "ipython3",
   "version": "3.10.14"
  }
 },
 "nbformat": 4,
 "nbformat_minor": 4
}
